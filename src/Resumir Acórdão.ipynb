{
 "cells": [
  {
   "cell_type": "code",
   "execution_count": 1,
   "id": "b770c66e",
   "metadata": {},
   "outputs": [],
   "source": [
    "%load_ext autoreload\n",
    "%autoreload 2"
   ]
  },
  {
   "cell_type": "markdown",
   "id": "0a11d8ed-a3f5-4032-8d28-e42f13f366b7",
   "metadata": {},
   "source": [
    "# Simplificando um acórdão"
   ]
  },
  {
   "cell_type": "code",
   "execution_count": 2,
   "id": "786b532d",
   "metadata": {},
   "outputs": [
    {
     "data": {
      "text/plain": [
       "'http://10.10.0.99:11434'"
      ]
     },
     "execution_count": 2,
     "metadata": {},
     "output_type": "execute_result"
    }
   ],
   "source": [
    "from langchain_ollama import ChatOllama\n",
    "from llms import get_llama\n",
    "from langchain_text_splitters import RecursiveCharacterTextSplitter\n",
    "from langchain_community.document_loaders import PyMuPDFLoader, TextLoader\n",
    "from langchain_core.documents.base import Document\n",
    "from langchain_core.prompts import PromptTemplate\n",
    "\n",
    "from config import Config\n",
    "Config.OLLAMA_BASE_URL"
   ]
  },
  {
   "cell_type": "code",
   "execution_count": 3,
   "id": "176f0191",
   "metadata": {},
   "outputs": [],
   "source": [
    "def split_documents(file_path, page_start=None, page_end=None):\n",
    "    if file_path.endswith('.pdf'):\n",
    "        loader = PyMuPDFLoader(file_path=file_path)\n",
    "        doc = loader.load()[page_start:page_end]\n",
    "    else:\n",
    "        loader = TextLoader(file_path)\n",
    "        docs = loader.load()\n",
    "        doc = [Document(page) for page in docs[0].page_content.split('\\n-----\\n')[page_start:page_end]]\n",
    "    text_splitter = RecursiveCharacterTextSplitter(\n",
    "        chunk_size=Config.SPLITTER_CHUNK_SIZE,\n",
    "        chunk_overlap=Config.SPLITTER_CHUNK_OVERLAP\n",
    "    )\n",
    "    docs = text_splitter.split_documents(doc)\n",
    "    return docs"
   ]
  },
  {
   "cell_type": "code",
   "execution_count": 24,
   "id": "e1682727-1342-4331-8263-64231ead378d",
   "metadata": {},
   "outputs": [],
   "source": [
    "from pprint import pprint\n",
    "from langchain_ollama import OllamaEmbeddings\n",
    "from langchain.chains import create_retrieval_chain\n",
    "from langchain.chains.combine_documents import create_stuff_documents_chain\n",
    "from langchain_community.vectorstores import FAISS\n",
    "\n",
    "\n",
    "def stuff(docs, host, results, key, prompt):\n",
    "    llm: ChatOllama = get_llama(host=host, model=0, log_callbacks=True)\n",
    "\n",
    "    embeddings_model = OllamaEmbeddings(\n",
    "        base_url=Config.OLLAMA_EMBEDDINGS_BASE_URL,\n",
    "        model=Config.OLLAMA_EMBEDDINGS_MODEL\n",
    "    )\n",
    "    vectorstore = FAISS.from_documents(documents=docs, embedding=embeddings_model)\n",
    "    retriever = vectorstore.as_retriever()\n",
    "\n",
    "    document_chain = create_stuff_documents_chain(llm, prompt)\n",
    "    retrieval_chain = create_retrieval_chain(retriever, document_chain)\n",
    "\n",
    "    chunks = []\n",
    "\n",
    "    for chunk in retrieval_chain.stream({\n",
    "        'input': 'Comece.'\n",
    "    }):\n",
    "        answer = chunk.get('answer', '')\n",
    "        chunks.append(answer)\n",
    "        print(answer, end='', flush=True)\n",
    "    print()\n",
    "    result = \"\".join(chunks)\n",
    "\n",
    "    results[key]['response'] = result\n",
    "    results[key]['prompt'] = [\n",
    "        str(prompt),\n",
    "    ]\n",
    "\n",
    "    del(vectorstore)\n",
    "    del(retriever)\n",
    "    return result"
   ]
  },
  {
   "cell_type": "code",
   "execution_count": 59,
   "id": "a06d2cbc",
   "metadata": {},
   "outputs": [],
   "source": [
    "from semantic_similarity import get_similarity_score\n",
    "\n",
    "\n",
    "def evaluate(summary, original):\n",
    "    original_content = \"\\n\".join([page.page_content for page in original])\n",
    "    return {\n",
    "        'cosine': get_similarity_score(summary, original_content, method='cosine'),\n",
    "        'bertscore': get_similarity_score(summary, original_content, method='bertscore'),\n",
    "    }"
   ]
  },
  {
   "cell_type": "code",
   "execution_count": 5,
   "id": "5a77fad8",
   "metadata": {
    "jupyter": {
     "source_hidden": true
    }
   },
   "outputs": [],
   "source": [
    "results = {\n",
    "    \"cabecalho\": {},\n",
    "    \"relatorio\": {},\n",
    "    \"voto\": {},\n",
    "    \"decisao\": {},\n",
    "}"
   ]
  },
  {
   "cell_type": "code",
   "execution_count": 6,
   "id": "4f1dd37b",
   "metadata": {},
   "outputs": [],
   "source": [
    "simplificados = {}"
   ]
  },
  {
   "cell_type": "code",
   "execution_count": 7,
   "id": "36c40de4-dae8-4543-8425-9e7e1ec52db2",
   "metadata": {
    "jupyter": {
     "source_hidden": true
    }
   },
   "outputs": [],
   "source": [
    "docs = [\n",
    "    \"documentos/acordaos/0600012-49_REl_28052024_1.txt\",\n",
    "    \"documentos/acordaos/0600108-33_RE_16122021_1.pdf\",\n",
    "    \"documentos/acordaos/0600376-38_REl_10042023_1.pdf\",\n",
    "    \"documentos/acordaos/0600059-75_REl_03102023_1.pdf\",\n",
    "    \"documentos/acordaos/0602653-80_DR_29092022_1.pdf\",\n",
    "    \"documentos/acordaos/0602658-05_REl-DR_30092022_1.pdf\",\n",
    "    \"documentos/acordaos/0600067-56_REl_27102022_1.pdf\",\n",
    "    \"documentos/acordaos/0602725-67_DR_30092022_1.pdf\",\n",
    "    \"documentos/acordaos/0600085-38_RE_25042022_1.pdf\",\n",
    "    \"documentos/acordaos/0602730-89_DR_29092022_1.pdf\",\n",
    "]\n",
    "file_path = docs[0]"
   ]
  },
  {
   "cell_type": "markdown",
   "id": "8f9674b6-8c53-443b-8827-d0949507872c",
   "metadata": {},
   "source": [
    "## Extraindo o cabeçalho"
   ]
  },
  {
   "cell_type": "code",
   "execution_count": 8,
   "id": "783e9905-4486-4f71-8412-26775df6b829",
   "metadata": {
    "jupyter": {
     "source_hidden": true
    }
   },
   "outputs": [],
   "source": [
    "start_page = 0\n",
    "end_page = 1\n",
    "doc = split_documents(file_path, start_page, end_page)"
   ]
  },
  {
   "cell_type": "markdown",
   "id": "f0d47f1d-41bf-48d2-a9e3-43a54877938e",
   "metadata": {},
   "source": [
    "### Prompt do cabeçalho"
   ]
  },
  {
   "cell_type": "code",
   "execution_count": 9,
   "id": "d972a660-7e5d-4ed0-b768-bc0d2f185419",
   "metadata": {},
   "outputs": [],
   "source": [
    "cabecalho_prompt = PromptTemplate.from_template(\n",
    "    \"\"\"\n",
    "    Extraia do texto encontrado no contexto somente as seguintes informações:\n",
    "\n",
    "    -   Número do processo (ou número do recurso eleitoral)\n",
    "    -   Origem\n",
    "    -   Relator\n",
    "    -   Recorrente\n",
    "    -   Advogados(as)\n",
    "    -   Recorrido\n",
    "    -   Assunto\n",
    "\n",
    "    Formate sua resposta como uma lista, assim:\n",
    "\n",
    "    -   Número do processo: Número do processo\n",
    "    -   Origem: Origem\n",
    "    -   Relator: Relator\n",
    "    -   Recorrente: Recorrente\n",
    "    -   Advogados: Advogados(as)\n",
    "    -   Recorrido: Recorrido\n",
    "    -   Assunto: Assunto, em 2 ou 3 palavras\n",
    "\n",
    "    ### Exemplo de entrada:\n",
    "\n",
    "    ```\n",
    "    PODER JUDICIÁRIO\n",
    "    TRIBUNAL REGIONAL ELEITORAL DO CEARÁ\n",
    "\n",
    "    RECURSO ELEITORAL N. 0600012-49.2024.6.06.0033\n",
    "    ORIGEM: CANINDÉ/CE\n",
    "    RELATOR: DESEMBARGADOR ELEITORAL DANIEL CARVALHO CARNEIRO\n",
    "    RECORRENTE: ANTÔNIO ILOMAR VASCONCELOS CRUZ\n",
    "    ADVOGADOS(AS): FRANCISCO JARDEL RODRIGUES DE SOUSA - OAB CE32787-A,\n",
    "    LIDENIRA CAVALCANTE MENDONÇA VIEIRA - OAB CE0016731\n",
    "    RECORRIDO: MINISTÉRIO PÚBLICO ELEITORAL\n",
    "    ```\n",
    "\n",
    "    ### Exemplo de saída:\n",
    "\n",
    "    -   Número do processo: 0600012-49.2024.6.06.0033\n",
    "    -   ORIGEM: CANINDÉ/CE\n",
    "    -   RELATOR: DESEMBARGADOR ELEITORAL DANIEL CARVALHO CARNEIRO\n",
    "    -   RECORRENTE: ANTÔNIO ILOMAR VASCONCELOS CRUZ\n",
    "    -   ADVOGADOS(AS): FRANCISCO JARDEL RODRIGUES DE SOUSA - OAB CE32787-A, LIDENIRA CAVALCANTE MENDONÇA VIEIRA - OAB CE0016731\n",
    "    -   RECORRIDO: MINISTÉRIO PÚBLICO ELEITORAL\n",
    "\n",
    "    ### Contexto\n",
    "\n",
    "    ```\n",
    "    {context}\n",
    "    ```\n",
    "\n",
    "    ### Fim do contexto\n",
    "\n",
    "    ### Resposta\n",
    "    \"\"\"\n",
    ")"
   ]
  },
  {
   "cell_type": "markdown",
   "id": "48f170a5-c46e-4589-ae01-f42270990ad3",
   "metadata": {},
   "source": [
    "### Recebendo a resposta"
   ]
  },
  {
   "cell_type": "code",
   "execution_count": 10,
   "id": "ae987dcb-bf93-4a69-82d2-bef402f7a506",
   "metadata": {
    "jupyter": {
     "source_hidden": true
    }
   },
   "outputs": [
    {
     "name": "stderr",
     "output_type": "stream",
     "text": [
      "Token indices sequence length is longer than the specified maximum sequence length for this model (1466 > 1024). Running this sequence through the model will result in indexing errors\n"
     ]
    },
    {
     "name": "stdout",
     "output_type": "stream",
     "text": [
      "\n",
      "Prompt: Human: \n",
      "    Extraia do texto encontrado no contexto somente as seguintes informações:\n",
      "\n",
      "    -   Número do processo (ou número do recurso eleitoral)\n",
      "    -   Origem\n",
      "    -   Relator\n",
      "    -   Recorrente\n",
      "    -   Advogados(as)\n",
      "    -   Recorrido\n",
      "    -   Assunto\n",
      "\n",
      "    Formate sua resposta como uma lista, assim:\n",
      "\n",
      "    -   Número do processo: Número do processo\n",
      "    -   Origem: Origem\n",
      "    -   Relator: Relator\n",
      "    -   Recorrente: Recorrente\n",
      "    -   Advogados: Advogados(as)\n",
      "    -   Recorrido: Recorrido\n",
      "    -   Assunto: Assunto, em 2 ou 3 palavras\n",
      "\n",
      "    ### Exemplo de entrada:\n",
      "\n",
      "    ```\n",
      "    PODER JUDICIÁRIO\n",
      "    TRIBUNAL REGIONAL ELEITORAL DO CEARÁ\n",
      "\n",
      "    RECURSO ELEITORAL N. 0600012-49.2024.6.06.0033\n",
      "    ORIGEM: CANINDÉ/CE\n",
      "    RELATOR: DESEMBARGADOR ELEITORAL DANIEL CARVALHO CARNEIRO\n",
      "    RECORRENTE: ANTÔNIO ILOMAR VASCONCELOS CRUZ\n",
      "    ADVOGADOS(AS): FRANCISCO JARDEL RODRIGUES DE SOUSA - OAB CE32787-A,\n",
      "    LIDENIRA CAVALCANTE MENDONÇA VIEIRA - OAB CE0016731\n",
      "    RECORRIDO: MINISTÉRIO PÚBLICO ELEITORAL\n",
      "    ```\n",
      "\n",
      "    ### Exemplo de saída:\n",
      "\n",
      "    -   Número do processo: 0600012-49.2024.6.06.0033\n",
      "    -   ORIGEM: CANINDÉ/CE\n",
      "    -   RELATOR: DESEMBARGADOR ELEITORAL DANIEL CARVALHO CARNEIRO\n",
      "    -   RECORRENTE: ANTÔNIO ILOMAR VASCONCELOS CRUZ\n",
      "    -   ADVOGADOS(AS): FRANCISCO JARDEL RODRIGUES DE SOUSA - OAB CE32787-A, LIDENIRA CAVALCANTE MENDONÇA VIEIRA - OAB CE0016731\n",
      "    -   RECORRIDO: MINISTÉRIO PÚBLICO ELEITORAL\n",
      "\n",
      "    ### Contexto\n",
      "\n",
      "    ```\n",
      "    PODER JUDICIÁRIO\n",
      "                         TRIBUNAL REGIONAL ELEITORAL DO CEARÁ\n",
      "RECURSO ELEITORAL N. 0600012-49.2024.6.06.0033\n",
      "ORIGEM: CANINDÉ/CE\n",
      "RELATOR: DESEMBARGADOR ELEITORAL DANIEL CARVALHO CARNEIRO\n",
      "RECORRENTE: ANTÔNIO ILOMAR VASCONCELOS CRUZ\n",
      "ADVOGADOS(AS): FRANCISCO JARDEL RODRIGUES DE SOUSA - OAB CE32787-A,\n",
      "LIDENIRA CAVALCANTE MENDONÇA VIEIRA - OAB CE0016731\n",
      "RECORRIDO: MINISTÉRIO PÚBLICO ELEITORAL\n",
      "EMENTA: ELEIÇÕES 2024. RECURSO ELEITORAL. PRÉ CANDIDATO AO CARGO DE\n",
      "PREFEITO. PROPAGANDA ELEITORAL ANTECIPADA. EVENTO COM ESTRUTURA\n",
      "ROBUSTA. CONVOCAÇÃO PÚBLICA. AMPLA DIVULGAÇÃO. UTILIZAÇÃO DE JINGLES.\n",
      "PEDIDO EXPLÍCITO DE VOTO. MULTA POR AFRONTA AO ART. 36–A DA LEI 9.504/97.\n",
      "MANUTENÇÃO DA SENTENÇA. CONHECIMENTO E DESPROVIMENTO DO RECURSO.\n",
      "    1. Recurso eleitoral interposto por Antônio Ilomar Vasconcelos Cruz contra a decisão do Juízo Eleitoral\n",
      "     da 33ª Zona  - Canindé/CE, que julgou parcialmente procedente a representação  eleitoral por\n",
      "     propaganda antecipada e condenou o recorrente ao pagamento de multa no valor de R$ 15.000 (quinze\n",
      "      mil reais)\n",
      "    2. Evento de pré-candidatura com estrutura robusta de palco, iluminação, sistema de som e um telão em\n",
      "    LED com efeito visual similar a um “outdoor”. Distribuição de materiais típicos de campanha.\n",
      "     Adesivos que ostentavam a inicial do nome do pré-candidato.\n",
      "    3. Convocação pública de eleitores. Ampla divulgação em redes sociais. Desvirtuamento de convenção\n",
      "       intrapartidária. Autêntico ato de campanha eleitoral.\n",
      "    ```\n",
      "\n",
      "    ### Fim do contexto\n",
      "\n",
      "    ### Resposta\n",
      "    \n",
      "\n",
      "Tokens: 1466\n",
      "-   Número do processo: 0600012-49.2024.6.06.0033\n",
      "-   Origem: CANINDÉ/CE\n",
      "-   Relator: DESEMBARGADOR ELEITORAL DANIEL CARVALHO CARNEIRO\n",
      "-   Recorrente: ANTÔNIO ILOMAR VASCONCELOS CRUZ\n",
      "-   Advogados(as): FRANCISCO JARDEL RODRIGUES DE SOUSA - OAB CE32787-A, LIDENIRA CAVALCANTE MENDONÇA VIEIRA - OAB CE0016731\n",
      "-   Recorrido: MINISTÉRIO PÚBLICO ELEITORAL\n"
     ]
    }
   ],
   "source": [
    "result = stuff(doc, 0, results, 'cabecalho', cabecalho_prompt)"
   ]
  },
  {
   "cell_type": "markdown",
   "id": "6c5f8816-6a9b-43d7-8824-87865698c833",
   "metadata": {},
   "source": [
    "## Resumindo o relatório"
   ]
  },
  {
   "cell_type": "code",
   "execution_count": 11,
   "id": "26668373",
   "metadata": {
    "jupyter": {
     "source_hidden": true
    }
   },
   "outputs": [],
   "source": [
    "start_page = 2\n",
    "end_page = 5\n",
    "doc = split_documents(file_path, start_page, end_page)"
   ]
  },
  {
   "cell_type": "markdown",
   "id": "2a331957-111e-43ba-8703-39b0ee7e93f7",
   "metadata": {},
   "source": [
    "### Prompt do relatório"
   ]
  },
  {
   "cell_type": "code",
   "execution_count": 12,
   "id": "1af1c66b",
   "metadata": {},
   "outputs": [],
   "source": [
    "relatorio_prompt = PromptTemplate.from_template(\n",
    "    \"\"\"\n",
    "    Você é um especialista jurídico com foco em simplificação de textos legais. Sua tarefa é analisar acórdãos judiciais e gerar um resumo simplificado, acessível ao público geral, sem perder a precisão jurídica. O formato do documento simplificado deve ser claro, objetivo e seguir uma estrutura pré-definida.\n",
    "    Preencha o acórdão simplificado utilizando as informações fornecidas em cada bloco. Siga o formato abaixo para garantir que todos os elementos necessários sejam cobertos e organizados conforme a estrutura do acórdão:\n",
    "    Responda com o texto simplificado do acórdão, e nada mais.\n",
    "\n",
    "    ### FORMATO\n",
    "    ```\n",
    "    **Relatório (O Caso)**: Resuma de forma objetiva os fatos apresentados no acórdão, destacando em 3 parágrafos, com no máximo 3 linhas cada um, e, quando for o caso, caixa de texto explicativa, tudo em texto contínuo.\n",
    "\n",
    "    Informações iniciais do processo analisado pelo juiz: indique o que o autor do recurso pediu e o que o réu alegou para se defender.\n",
    "    Decisão do juiz no processo inicial: Apresente a decisão do juiz no processo inicial, descrevendo o que o juiz decidiu e as justificativas legais usadas.\n",
    "    Artigos de lei e fundamentos jurídicos relevantes: cite artigos de lei e fundamentos jurídicos relevantes..\n",
    "    Quem recorreu e o que alegou: indique quem recorreu à decisão e o que alegou para recorrer.\n",
    "\n",
    "    Caixa de texto explicativa com termos jurídicos relevantes para a compreensão do assunto principal: forneça definições e explicações simples de termos, expressões ou assuntos jurídicos relevantes para a compreensão do assunto principal. Exemplo: “Propaganda antecipada negativa: A propaganda eleitoral antecipada negativa acontece quando, antes de 16 de agosto do ano eleitoral (art. 36 da Lei nº 9.504/1997), alguém faz críticas para prejudicar adversários políticos e influenciar eleitores. Essa prática é proibida e pode resultar em multa”.\n",
    "    ```\n",
    "    ### FIM DO FORMATO\n",
    "\n",
    "    ### CONTEXTO\n",
    "    ```\n",
    "    {context}\n",
    "    ```\n",
    "    ### FIM DO CONTEXTO\n",
    "    \"\"\"\n",
    ")"
   ]
  },
  {
   "cell_type": "markdown",
   "id": "5b3c5adb-1689-447c-a9ce-2ec89dc04a07",
   "metadata": {},
   "source": [
    "### Recebendo a resposta"
   ]
  },
  {
   "cell_type": "code",
   "execution_count": 13,
   "id": "727ca5c1",
   "metadata": {
    "jupyter": {
     "source_hidden": true
    }
   },
   "outputs": [
    {
     "name": "stdout",
     "output_type": "stream",
     "text": [
      "\n",
      "Prompt: Human: \n",
      "    Você é um especialista jurídico com foco em simplificação de textos legais. Sua tarefa é analisar acórdãos judiciais e gerar um resumo simplificado, acessível ao público geral, sem perder a precisão jurídica. O formato do documento simplificado deve ser claro, objetivo e seguir uma estrutura pré-definida.\n",
      "    Preencha o acórdão simplificado utilizando as informações fornecidas em cada bloco. Siga o formato abaixo para garantir que todos os elementos necessários sejam cobertos e organizados conforme a estrutura do acórdão:\n",
      "    Responda com o texto simplificado do acórdão, e nada mais.\n",
      "\n",
      "    ### FORMATO\n",
      "    ```\n",
      "    **Relatório (O Caso)**: Resuma de forma objetiva os fatos apresentados no acórdão, destacando em 3 parágrafos, com no máximo 3 linhas cada um, e, quando for o caso, caixa de texto explicativa, tudo em texto contínuo.\n",
      "\n",
      "    Informações iniciais do processo analisado pelo juiz: indique o que o autor do recurso pediu e o que o réu alegou para se defender.\n",
      "    Decisão do juiz no processo inicial: Apresente a decisão do juiz no processo inicial, descrevendo o que o juiz decidiu e as justificativas legais usadas.\n",
      "    Artigos de lei e fundamentos jurídicos relevantes: cite artigos de lei e fundamentos jurídicos relevantes..\n",
      "    Quem recorreu e o que alegou: indique quem recorreu à decisão e o que alegou para recorrer.\n",
      "\n",
      "    Caixa de texto explicativa com termos jurídicos relevantes para a compreensão do assunto principal: forneça definições e explicações simples de termos, expressões ou assuntos jurídicos relevantes para a compreensão do assunto principal. Exemplo: “Propaganda antecipada negativa: A propaganda eleitoral antecipada negativa acontece quando, antes de 16 de agosto do ano eleitoral (art. 36 da Lei nº 9.504/1997), alguém faz críticas para prejudicar adversários políticos e influenciar eleitores. Essa prática é proibida e pode resultar em multa”.\n",
      "    ```\n",
      "    ### FIM DO FORMATO\n",
      "\n",
      "    ### CONTEXTO\n",
      "    ```\n",
      "    existência de propaganda eleitoral antecipada por parte do Representado”.\n",
      "Em acréscimo, negou que no lançamento de sua pré-candidatura tenha havido pedido de voto, realização de\n",
      "propaganda eleitoral ou conduta que possa macular o princípio de isonomia entre os candidatos. Ao final,\n",
      "pugnou  pelo provimento do recurso e reforma da sentença para que a Representação  seja  julgada\n",
      "improcedente.\n",
      "Em contrarrazões, Id 19574917, a Promotoria Eleitoral pugnou pelo não provimento do recurso, aduzindo que o\n",
      "recorrente, no contexto de lançamento de sua pré-candidatura em relação ao cargo de prefeito do município de\n",
      "Canindé, realizou propaganda irregular, com pedido explícito de votos, e que a infraestrutura do evento e o local\n",
      "onde fora realizado seriam indicativos do objetivo de ampliar o alcance da mensagem de sua pré-candidatura,\n",
      "buscando influenciar a opinião dos eleitores e promover sua imagem política antes do período oficial de\n",
      "campanha.\n",
      "A Procuradoria Regional Eleitoral apresentou parecer, Id 19577041, manifestando-se pela manutenção da\n",
      "sentença e imposição da penalidade do art. 36, § 3º, da Lei 9.504/97, por entender que foi praticado ato típico\n",
      "de campanha eleitoral não abrangido no rol do art. 36-A da Lei 9.504/97, como excludentes da conduta ilícita de\n",
      "prática de propaganda eleitoral antecipada.\n",
      "É o relatório.\n",
      "Fortaleza, 28 de maio de 2024.\n",
      "             DESEMBARGADOR ELEITORAL DANIEL CARVALHO CARNEIRO\n",
      "                                                  Relator(a).\n",
      "                                  PODER JUDICIÁRIO\n",
      "                         TRIBUNAL REGIONAL ELEITORAL DO CEARÁ\n",
      "RECURSO ELEITORAL N. 0600012-49.2024.6.06.0033\n",
      "ORIGEM: CANINDÉ/CE\n",
      "\n",
      "entre os candidatos, desequilibrando o pleito que se avizinha.”\n",
      "Irresignado com a decisão, o representado interpôs o presente recurso (Id 19574909), por meio do qual,\n",
      "reiterando os argumentos apresentados em sede de contestação e citando decisão do TSE na Representação\n",
      "\n",
      "representados, e que o princípio da igualdade de oportunidades entre os candidatos foi vulnerado, restando\n",
      "caracterizada a realização de propaganda eleitoral antecipada, destacando-se na fundamentação do referido\n",
      "decisum os trechos adiante transcritos:\n",
      "                     “No caso em julgamento, vê-se, dos documentos colacionados à  inicial, que a\n",
      "                           utilização de jingle de campanha faz expressa alusão à candidatura do representado,\n",
      "\n",
      "faz o i,\n",
      "                         levante a mão, faz o i,\n",
      "                          faz o i,\n",
      "                          faz de coração (4x)\n",
      "                    Nasceu no assentamento, sua história mudou,\n",
      "                      Por grandes conquistas, o homem trabalhou.\n",
      "                Homem simples, cuidadoso, Ilomar é generoso,\n",
      "                      Por um Canindé melhor e justo para todos.\n",
      "               O amor à Canindé sempre declarou,\n",
      "                 E agora quer para todos o futuro que sonhou.\n",
      "                      Saúde, educação, água pra população,\n",
      "                        Vai trazer prosperidade,\n",
      "                     Faz o i com a mão. Faz o i, faz o i, levante a mão, faz o i, faz o i, faz de coração (4x)\n",
      "                     Faz o i.”\n",
      "               O pedido explícito de votos também é extraído do símbolo de campanha representado\n",
      "                        pela letra “i” feita com o dedo, e do slogan utilizado nas publicações nas redes sociais\n",
      "                     que fazem referência expressa ao seu nome: “ILIOMAR – Por um Canindé melhor,\n",
      "                      mais justo e para todos”.\n",
      "                                      (...)\n",
      "               O porte do evento aqui já descrito – que contou com estrutura profissional de palco,\n",
      "                         iluminação, sonorização, gravação (e posterior divulgação), material gráfico e de\n",
      "                       marketing (vídeos postados nas redes sociais) –, denota que é, por óbvio, inacessível\n",
      "                     a todos os pré–candidatos em um pequeno município do interior do Ceará.\n",
      "                    Além da realização do evento que extrapolou os limites de evento intrapartidário para\n",
      "                       corresponder a evidente prática de propaganda eleitoral antecipada, houve ampla\n",
      "                        divulgação profissional na rede social do instagram.\n",
      "                      Restou devidamente comprovado, que os referidos atos, executados antes do período\n",
      "                        autorizado pela legislação, possuíam o intuito de influenciar o eleitorado, ao arrepio\n",
      "                     da legislação eleitoral, para que o pré-candidato seja alçado ao comando do executivo\n",
      "                         municipal, ferindo, desse modo, a igualdade de oportunidade ou a paridade de armas\n",
      "                         entre os candidatos, desequilibrando o pleito que se avizinha.”\n",
      "Irresignado com a decisão, o representado interpôs o presente recurso (Id 19574909), por meio do qual,\n",
      "    ```\n",
      "    ### FIM DO CONTEXTO\n",
      "    \n",
      "\n",
      "Tokens: 3096\n",
      "**Relatório (O Caso)**: O caso envolve um recurso eleitoral apresentado pelo candidato Ilomar, que alega que sua pré-candidatura foi prejudicada pela realização de propaganda eleitoral antecipada. O juiz decidiu que o ato do candidato Ilomar foi caracterizado como propaganda eleitoral antecipada e imposta a penalidade do artigo 36, § 3º, da Lei 9.504/97.\n",
      "\n",
      "**Informações iniciais do processo**: O autor do recurso pediu a anulação da decisão do juiz que considerou a propaganda eleitoral antecipada e a aplicação da penalidade. O réu alegou que não havia pedido explícito de votos ou conduta que prejudicasse a igualdade entre os candidatos.\n",
      "\n",
      "**Decisão do juiz no processo inicial**: O juiz decidiu que o ato do candidato Ilomar foi caracterizado como propaganda eleitoral antecipada e imposta a penalidade do artigo 36, § 3º, da Lei 9.504/97.\n",
      "\n",
      "**Artigos de lei e fundamentos jurídicos relevantes**: O artigo 36 da Lei 9.504/97 proíbe a propaganda eleitoral antecipada, que é definida como a realização de atos de propaganda antes do período autorizado pela legislação.\n",
      "\n",
      "**Quem recorreu e o que alegou**: O candidato Ilomar recorreu à decisão do juiz, alegando que sua pré-candidatura foi prejudicada pela propaganda eleitoral antecipada. Ele também argumentou que não havia pedido explícito de votos ou conduta que prejudicasse a igualdade entre os candidatos.\n",
      "\n",
      "**Caixa de texto explicativa**: Propaganda antecipada negativa: A propaganda eleitoral antecipada negativa acontece quando, antes de 16 de agosto do ano eleitoral (art. 36 da Lei nº 9.504/1997), alguém faz críticas para prejudicar adversários políticos e influenciar eleitores. Essa prática é proibida e pode resultar em multa.\n",
      "\n",
      "**Conclusão**: O caso envolve uma disputa sobre a propaganda eleitoral antecipada e sua aplicação à penalidade. A decisão do juiz foi baseada na interpretação da lei e nos fatos apresentados no processo.\n"
     ]
    }
   ],
   "source": [
    "result = stuff(doc, 0, results, 'relatorio', relatorio_prompt)"
   ]
  },
  {
   "cell_type": "markdown",
   "id": "cf9e08a3",
   "metadata": {},
   "source": [
    "# Avaliando resposta"
   ]
  },
  {
   "cell_type": "code",
   "execution_count": 60,
   "id": "065b6028",
   "metadata": {},
   "outputs": [
    {
     "name": "stdout",
     "output_type": "stream",
     "text": [
      "{'cosine': 0.7023019160910261, 'bertscore': 0.5260257720947266}\n"
     ]
    }
   ],
   "source": [
    "print(evaluate(results['relatorio']['response'], doc))"
   ]
  },
  {
   "cell_type": "markdown",
   "id": "afe4e446",
   "metadata": {},
   "source": [
    "## Refinando a resposta"
   ]
  },
  {
   "cell_type": "code",
   "execution_count": 61,
   "id": "62df1a9b",
   "metadata": {},
   "outputs": [
    {
     "data": {
      "text/plain": [
       "<module 'postprocessing' from '/home/rafael-albuquerque/LIODS/repos/simplificacao/postprocessing.py'>"
      ]
     },
     "execution_count": 61,
     "metadata": {},
     "output_type": "execute_result"
    }
   ],
   "source": [
    "import importlib\n",
    "import postprocessing\n",
    "\n",
    "importlib.reload(postprocessing)"
   ]
  },
  {
   "cell_type": "code",
   "execution_count": 62,
   "id": "56623bd5",
   "metadata": {},
   "outputs": [
    {
     "name": "stderr",
     "output_type": "stream",
     "text": [
      "Asking to truncate to max_length but no maximum length is provided and the model has no predefined maximum length. Default to no truncation.\n"
     ]
    }
   ],
   "source": [
    "post = postprocessing.postprocess(results['relatorio']['response'], file_path, start_page, end_page)"
   ]
  },
  {
   "cell_type": "code",
   "execution_count": 63,
   "id": "97d1e83a",
   "metadata": {},
   "outputs": [
    {
     "name": "stdout",
     "output_type": "stream",
     "text": [
      "('**Resumo Refinado**\\n'\n",
      " '\\n'\n",
      " 'O Tribunal Regional Eleitoral do Ceará (TRE-CE) negou provimento ao recurso '\n",
      " 'eleitoral apresentado por Antônio Ilomar Vasconcelos Cruz, candidato a um '\n",
      " 'cargo eletivo, que alegava que sua pré-candidatura foi prejudicada pela '\n",
      " 'propaganda eleitoral antecipada realizada por Francisco Jardel Rodrigues de '\n",
      " 'Souza.\\n'\n",
      " '\\n'\n",
      " 'O juiz havia decidido que o ato do candidato Ilomar foi caracterizado como '\n",
      " 'propaganda eleitoral antecipada e imposta a penalidade do artigo 36, § 3º, '\n",
      " 'da Lei 9.504/97. O réu argumentou que não havia pedido explícito de votos ou '\n",
      " 'conduta que prejudicasse a igualdade entre os candidatos.\\n'\n",
      " '\\n'\n",
      " 'O TRE-CE decidiu que o ato do candidato Ilomar foi caracterizado como '\n",
      " 'propaganda eleitoral antecipada e imposta a penalidade do artigo 36, § 3º, '\n",
      " 'da Lei 9.504/97. O Tribunal considerou que o ato do candidato Ilomar foi '\n",
      " 'prejudicial à igualdade entre os candidatos e aplicou a penalidade prevista '\n",
      " 'na lei.\\n'\n",
      " '\\n'\n",
      " 'O recurso foi negado provimento pelo TRE-CE, que considerou que o ato do '\n",
      " 'candidato Ilomar foi caracterizado como propaganda eleitoral antecipada e '\n",
      " 'imposta a penalidade do artigo 36, § 3º, da Lei 9.504/97. O Tribunal também '\n",
      " 'considerou que o ato do candidato Ilomar foi prejudicial à igualdade entre '\n",
      " 'os candidatos.\\n'\n",
      " '\\n'\n",
      " '**Informações relevantes omitidas no resumo original**\\n'\n",
      " '\\n'\n",
      " '* A decisão do juiz no processo inicial foi baseada na interpretação da lei '\n",
      " 'e nos fatos apresentados no processo.\\n'\n",
      " '* O artigo 36 da Lei 9.504/97 proíbe a propaganda eleitoral antecipada, que '\n",
      " 'é definida como a realização de atos de propaganda antes do período '\n",
      " 'autorizado pela legislação.\\n'\n",
      " '* O Tribunal Regional Eleitoral do Ceará (TRE-CE) compôs o julgamento com 7 '\n",
      " 'membros, incluindo o presidente Raimundo Nonato Silva Santos e os '\n",
      " 'desembargadores Francisco Gladysom Pontes, Glêdison Marques Fernandes, '\n",
      " 'Francisco Érico Carvalho Silveira, Daniel Carvalho Carneiro, Luciano Nunes '\n",
      " 'Maia Freire e Rogério Feitosa Carvalho Mota.\\n'\n",
      " '* O recurso eleitoral foi apresentado pelo candidato Antônio Ilomar '\n",
      " 'Vasconcelos Cruz, que alegou que sua pré-candidatura foi prejudicada pela '\n",
      " 'propaganda eleitoral antecipada realizada por Francisco Jardel Rodrigues de '\n",
      " 'Souza.')\n"
     ]
    }
   ],
   "source": [
    "pprint(post)"
   ]
  },
  {
   "cell_type": "code",
   "execution_count": 64,
   "id": "1ac94cdc",
   "metadata": {},
   "outputs": [
    {
     "name": "stdout",
     "output_type": "stream",
     "text": [
      "{'cosine': 0.853852466625631, 'bertscore': 0.5514101982116699}\n"
     ]
    }
   ],
   "source": [
    "print(evaluate(post, doc))"
   ]
  },
  {
   "cell_type": "markdown",
   "id": "1055b691-26b0-4a6b-85d1-85b95bdd8e67",
   "metadata": {},
   "source": [
    "## Resumindo o voto"
   ]
  },
  {
   "cell_type": "code",
   "execution_count": 17,
   "id": "6d17d6d8-835f-4427-854a-8df9e0ef4a31",
   "metadata": {},
   "outputs": [],
   "source": [
    "start_page = 5\n",
    "end_page = 11\n",
    "doc = split_documents(file_path, start_page, end_page)"
   ]
  },
  {
   "cell_type": "markdown",
   "id": "744cb87a-d95d-4818-90b4-809ac020e6f5",
   "metadata": {},
   "source": [
    "### Prompt do voto"
   ]
  },
  {
   "cell_type": "code",
   "execution_count": 18,
   "id": "94f503e9-72f5-491b-bfc1-c7c3ad9e5860",
   "metadata": {},
   "outputs": [],
   "source": [
    "voto_prompt = PromptTemplate.from_template(\n",
    "    \"\"\"\n",
    "    Você é um especialista jurídico com foco em simplificação de textos legais. Sua tarefa é analisar acórdãos judiciais e gerar um resumo simplificado, acessível ao público geral, sem perder a precisão jurídica. O formato do documento simplificado deve ser claro, objetivo e seguir uma estrutura pré-definida.\n",
    "    Preencha o acórdão simplificado utilizando as informações fornecidas em cada bloco. Siga o formato abaixo para garantir que todos os elementos necessários sejam cobertos e organizados conforme a estrutura do acórdão:\n",
    "    Responda com o texto simplificado do acórdão, e nada mais.\n",
    "\n",
    "    ### FORMATO\n",
    "    ```\n",
    "    **Voto (Argumentação/ Motivação/ Fundamentação)**: Apresente as razões jurídicas que embasaram a decisão do Tribunal, destacando, em 2 parágrafos, com no máximo 3 linhas, de texto contínuo.\n",
    "\n",
    "    Princípios legais aplicados: quais foram os princípios legais aplicados.\n",
    "    Interpretação do Tribunal: A interpretação dada à legislação.\n",
    "    Argumentos relevantes: Argumentos relevantes usados na motivação.**\n",
    "\n",
    "    (Use uma linguagem simples e evite jargões técnicos sempre que possível)\n",
    "\n",
    "    Fundamentação de Fato e de Direito: Explique os fatos relevantes para a decisão e apresente a fundamentação jurídica, citando artigos de lei, precedentes jurisprudenciais que embasam a decisão do Tribunal.\n",
    "    Conclusão e Decisão: Conclusão do Voto.\n",
    "    ```\n",
    "    ### FIM DO FORMATO\n",
    "\n",
    "    ### CONTEXTO\n",
    "    ```\n",
    "    {context}\n",
    "    ```\n",
    "    ### FIM DO CONTEXTO\n",
    "    \"\"\"\n",
    ")"
   ]
  },
  {
   "cell_type": "markdown",
   "id": "b16891ab-7c15-4085-b4e9-d3e0b1fd58c7",
   "metadata": {},
   "source": [
    "### Recebendo a resposta"
   ]
  },
  {
   "cell_type": "code",
   "execution_count": 19,
   "id": "569039ad-9c15-431d-9c92-d39873879ae2",
   "metadata": {
    "jupyter": {
     "source_hidden": true
    }
   },
   "outputs": [
    {
     "name": "stdout",
     "output_type": "stream",
     "text": [
      "\n",
      "Prompt: Human: \n",
      "    Você é um especialista jurídico com foco em simplificação de textos legais. Sua tarefa é analisar acórdãos judiciais e gerar um resumo simplificado, acessível ao público geral, sem perder a precisão jurídica. O formato do documento simplificado deve ser claro, objetivo e seguir uma estrutura pré-definida.\n",
      "    Preencha o acórdão simplificado utilizando as informações fornecidas em cada bloco. Siga o formato abaixo para garantir que todos os elementos necessários sejam cobertos e organizados conforme a estrutura do acórdão:\n",
      "    Responda com o texto simplificado do acórdão, e nada mais.\n",
      "\n",
      "    ### FORMATO\n",
      "    ```\n",
      "    **Voto (Argumentação/ Motivação/ Fundamentação)**: Apresente as razões jurídicas que embasaram a decisão do Tribunal, destacando, em 2 parágrafos, com no máximo 3 linhas, de texto contínuo.\n",
      "\n",
      "    Princípios legais aplicados: quais foram os princípios legais aplicados.\n",
      "    Interpretação do Tribunal: A interpretação dada à legislação.\n",
      "    Argumentos relevantes: Argumentos relevantes usados na motivação.**\n",
      "\n",
      "    (Use uma linguagem simples e evite jargões técnicos sempre que possível)\n",
      "\n",
      "    Fundamentação de Fato e de Direito: Explique os fatos relevantes para a decisão e apresente a fundamentação jurídica, citando artigos de lei, precedentes jurisprudenciais que embasam a decisão do Tribunal.\n",
      "    Conclusão e Decisão: Conclusão do Voto.\n",
      "    ```\n",
      "    ### FIM DO FORMATO\n",
      "\n",
      "    ### CONTEXTO\n",
      "    ```\n",
      "    reconheça o seu caráter eleitoral, especialmente ante o uso da marca temporal e da\n",
      "                      indicação perfeita dos componentes da chapa, na ordem em que seriam futuramente\n",
      "                      apresentados ao eleitorado. (...)\n",
      "                     (0000218–58.2016.6.19.0154.AI – Agravo Regimental em Agravo de Instrumento nº\n",
      "                   21858 – BELFORD ROXO – RJ. Acórdão de 05/12/2019. Relator (a) Min. Edson\n",
      "                      Fachin. Publicação: DJE – Diário de justiça eletrônico, Data 07/02/2020)”\n",
      "Em conclusão, considerando os elementos apresentados e os critérios jurisprudenciais estabelecidos para o\n",
      "reconhecimento da propaganda eleitoral extemporânea, identifica-se a presença de: (a) referência direta ao\n",
      "pleito vindouro ou cargo em disputa; (b) pedido explícito de voto ou o uso de “palavras mágicas” no evento\n",
      "e nas publicações veiculadas nas redes sociais do pré-candidato; (c) uso de forma vedada para a propaganda\n",
      "eleitoral no período permitido, como a utilização de outdoor e material gráfico; e, por fim, (d) violação à\n",
      "paridade de armas entre os possíveis concorrentes.\n",
      "Ante o exposto, voto pelo conhecimento e pelo improvimento do recurso, mantendo-se incólume a sentença\n",
      "que julgou procedente a representação por propaganda antecipada e condenou o Representado ao pagamento\n",
      "de multa no valor de R$ 15.000,00 (quinze mil reais), com fulcro no artigo 36, § 3º, da Lei nº 9.504/97.\n",
      "Fortaleza, 28 de maio de 2024.\n",
      "        DESEMBARGADOR ELEITORAL DANIEL CARVALHO CARNEIRO\n",
      "                                              Relator(a).\n",
      "                        EXTRATO DA ATA\n",
      "RECURSO ELEITORAL N. 0600012-49.2024.6.06.0033\n",
      "ORIGEM: CANINDÉ/CE\n",
      "RELATOR: DESEMBARGADOR ELEITORAL DANIEL CARVALHO CARNEIRO\n",
      "RECORRENTE: ANTÔNIO ILOMAR VASCONCELOS CRUZ\n",
      "ADVOGADOS(AS): FRANCISCO JARDEL RODRIGUES DE SOUSA - OAB CE32787-A,\n",
      "\n",
      "de prefeito de Canindé/CE, ocorrido no dia 17 de fevereiro de 2024.\n",
      "As evidências  trazidas aos  autos, compostas por vídeos e  fotografias acostados à petição  inicial e\n",
      "disponibilizados no perfil de Instagram do pré-candidato (@ilomarvasconcelos), evidenciam que o evento\n",
      "dispôs de significativa estrutura, incluindo palco, iluminação, sistema de som e um telão em LED com efeito\n",
      "visual similar a um “outdoor”. Ademais, observa-se que houve distribuição de materiais  típicos de\n",
      "campanha, tais como adesivos que ostentavam a inicial do nome do pré-candidato.\n",
      "Conforme consta nos vídeos divulgados, o evento atraiu aproximadamente 2 (duas) mil pessoas. Nas\n",
      "imagens disponíveis, o pré-candidato é visto ao lado de outras lideranças políticas, interagindo diretamente\n",
      "com eleitores que portavam adesivos padronizados e realizavam gestos com as mãos formando a letra \"i\",\n",
      "símbolo escolhido para a campanha.\n",
      "Paralelamente, durante o evento, um jingle de campanha foi tocado repetidamente, enfatizando a frase “faz o\n",
      "\n",
      "R$ 5.000,00 (cinco mil reais) a cada um dos representados.\n",
      "                  (TRE-PE  - RP: 0600340-43.2022.6.17.0000 RECIFE  - PE 060034043, Relator:\n",
      "               FRANCISCO ROBERTO MACHADO, Data de Julgamento: 25/07/2022, Data de\n",
      "                      Publicação: DJE - 152 Diário de Justiça Eletrônico do TRE-PE, data 29/07/2022,\n",
      "                      pag. 28-38)”\n",
      "                        “2. Extrai–se do acórdão regional que o agravante, ao discursar em evento realizado\n",
      "               em um clube, proferiu a seguinte frase: “Peço, confie no Felipe como nosso Federal”\n",
      "                    (ID nº 17896488). 3. A propaganda eleitoral antecipada não se configura somente\n",
      "                   quando veiculada a mensagem vote em mim. Caracteriza–se também em hipóteses\n",
      "                     nas quais se identifiquem elementos que traduzam o pedido explícito de votos.\n",
      "                     (...)(TSE.AgravoRegimentalemAgravo  de  Instrumento  nº  060278062– BELO\n",
      "               HORIZONTE – MG. Acórdão de 18/12/2019. Relator (a) Min. Tarcisio Vieira De\n",
      "                     Carvalho Neto. Publicação: DJE – diário de justiça eletrônico, Tomo 53, Data\n",
      "                     18/03/2020)”\n",
      "                        “3. Veiculação de panfletos, do tipo revista, bem como vídeo, postado no sítio\n",
      "                        eletrônico do 'youtube', de mensagem publicitária com o seguinte teor: \"(...) no dia\n",
      "\n",
      "em representação por propaganda antecipada, estabeleceu os mencionados critérios para a análise de\n",
      "propaganda extemporânea, com base de diversos julgados proferidos no âmbito da Corte Eleitoral:\n",
      "                ELEIÇÕES 2022. REPRESENTAÇÃO. PRÉ–CANDIDATO AO CARGO DE\n",
      "                PRESIDENTE DA REPÚBLICA. ALEGADA PROPAGANDA ELEITORAL\n",
      "               ANTECIPADA IRREGULAR. DATA COMEMORATIVA. DIA DAS MÃES.\n",
      "                 ART.  36 DA  LEI DAS ELEIÇÕES. NÃO CONFIGURAÇÃO. NEGADO\n",
      "              PROVIMENTO AO RECURSO.  1. Segundo a jurisprudência do TSE, há\n",
      "                  propaganda eleitoral extemporânea irregular quando se tem, cumulativamente\n",
      "                  ou não, a presença de: (a) referência direta ao pleito vindouro ou cargo em\n",
      "                      disputa, (b) pedido explícito de voto, de não voto ou o uso de \"palavras\n",
      "                   mágicas\" para esse fim, (c) realização por forma vedada para a propaganda\n",
      "                        eleitoral no período permitido, (d) violação à paridade de armas entre os\n",
      "                       possíveis concorrentes, (e) mácula à honra ou imagem de pré–candidato e (f)\n",
      "                    divulgação de fato sabidamente inverídico. 2. No caso, ausente qualquer elemento\n",
      "                       caracterizador de propaganda eleitoral, é incabível afirmar a sua ocorrência na forma\n",
      "                     extemporânea, bem como não há falar em propaganda política, por ter sido veiculado\n",
      "                    programa em  cadeia de  rádio  e  televisão, com  participação  coadjuvante da\n",
      "                    primeira–dama ao lado da Ministra de Estado da Mulher, Família e dos Direitos\n",
      "                   Humanos, cujo conteúdo se restringiu a divulgar programa de governo de notório\n",
      "                        interesse da população em geral e de especial relevância para a população feminina.\n",
      "                         3. Nega–se provimento ao recurso.\n",
      "                  (TSE - Rp: 06002873620226000000 BRASÍLIA - DF 060028736, Relator: Min.\n",
      "                  Raul Araujo Filho, Data de Julgamento: 23/05/2023, Data de Publicação: DJE -\n",
      "                      Diário de Justiça Eletrônico, Tomo 113)”\n",
      "No caso em tela, a imputação de propaganda antecipada resulta de evento realizado em benefício do\n",
      "recorrente, Antônio Ilomar Vasconcelos Cruz, no contexto do lançamento de sua pré-candidatura ao cargo\n",
      "de prefeito de Canindé/CE, ocorrido no dia 17 de fevereiro de 2024.\n",
      "As evidências  trazidas aos  autos, compostas por vídeos e  fotografias acostados à petição  inicial e\n",
      "    ```\n",
      "    ### FIM DO CONTEXTO\n",
      "    \n",
      "\n",
      "Tokens: 3829\n",
      "**Voto**\n",
      "\n",
      "A decisão do Tribunal é motivada pela análise das evidências apresentadas pelos recorrentes, que comprovam a realização de um evento político no dia 17 de fevereiro de 2024, em benefício da pré-candidatura do recorrente Antônio Ilomar Vasconcelos Cruz. O evento foi realizado no contexto do lançamento da pré-candidatura e contou com a presença de lideranças políticas e eleitores.\n",
      "\n",
      "A propaganda eleitoral antecipada é caracterizada pela realização de eventos políticos que não estão dentro do período permitido pela lei, além de utilizar elementos que traduzem o pedido explícito de votos. Nesse caso, o evento contou com a distribuição de materiais típicos de campanha e a utilização de palavras mágicas, como a frase \"faz o que eu fizer\" para o recorrente.\n",
      "\n",
      "A decisão do Tribunal é baseada nos critérios estabelecidos pela jurisprudência do TSE, que considera a propaganda eleitoral extemporânea irregular quando há a presença de referência direta ao pleito vindouro ou cargo em disputa, pedido explícito de voto ou uso de \"palavras mágicas\" para esse fim, realização por forma vedada para a propaganda eleitoral no período permitido e violação à paridade de armas entre os possíveis concorrentes.\n",
      "\n",
      "**Princípios legais aplicados:** Art. 36, § 3º da Lei nº 9.504/97\n",
      "\n",
      "**Interpretação do Tribunal:** A decisão do Tribunal é baseada na interpretação da lei e na jurisprudência do TSE, que considera a propaganda eleitoral antecipada como irregular quando há a presença de elementos caracterizadores.\n",
      "\n",
      "**Argumentos relevantes:** A presença de referência direta ao pleito vindouro ou cargo em disputa, pedido explícito de voto ou uso de \"palavras mágicas\" para esse fim, realização por forma vedada para a propaganda eleitoral no período permitido e violação à paridade de armas entre os possíveis concorrentes.\n",
      "\n",
      "**Conclusão e Decisão:** Conforme consta nos autos, o evento realizado em benefício da pré-candidatura do recorrente Antônio Ilomar Vasconcelos Cruz contou com a presença de elementos caracterizadores da propaganda eleitoral antecipada. Portanto, a decisão do Tribunal é baseada na interpretação da lei e na jurisprudência do TSE, que considera a propaganda eleitoral extemporânea irregular quando há a presença de referência direta ao pleito vindouro ou cargo em disputa, pedido explícito de voto ou uso de \"palavras mágicas\" para esse fim, realização por forma vedada para a propaganda eleitoral no período permitido e violação à paridade de armas entre os possíveis concorrentes.\n"
     ]
    }
   ],
   "source": [
    "result = stuff(doc, 0, results, 'voto', voto_prompt)"
   ]
  },
  {
   "cell_type": "markdown",
   "id": "3c1fec96-7f28-4aef-ac6a-75e1eae70d14",
   "metadata": {},
   "source": [
    "## Resumindo a decisão"
   ]
  },
  {
   "cell_type": "code",
   "execution_count": 47,
   "id": "33a06031-ce91-4ed0-b077-8d1066122d5b",
   "metadata": {},
   "outputs": [],
   "source": [
    "import split_documents as splitdocuments\n",
    "\n",
    "start_page = 11\n",
    "end_page = 12\n",
    "doc = splitdocuments.split_documents(file_path, start_page, end_page, chunk_size=200, chunk_overlap=0)"
   ]
  },
  {
   "cell_type": "markdown",
   "id": "eac93258-13db-4078-a328-4514be787814",
   "metadata": {},
   "source": [
    "### Prompt da decisão"
   ]
  },
  {
   "cell_type": "code",
   "execution_count": 48,
   "id": "9d679744-4f62-4379-a28e-edf4891b8221",
   "metadata": {},
   "outputs": [],
   "source": [
    "decisao_prompt = PromptTemplate.from_template(\n",
    "    \"\"\"Classifique o resultado do recurso como \"RECURSO ACEITO\", \"RECURSO NEGADO\" ou \"RECURSO PARCIALMENTE ACEITO\". Responda com a classificação e justifique sua resposta.\n",
    "\n",
    "Texto:\n",
    "{context}\n",
    "\n",
    "Classificação:\"\"\"\n",
    ")"
   ]
  },
  {
   "cell_type": "markdown",
   "id": "f58e41fe-ee5a-4d28-9e6e-5d1aab8caec5",
   "metadata": {},
   "source": [
    "### Recebendo a resposta"
   ]
  },
  {
   "cell_type": "code",
   "execution_count": 50,
   "id": "7b94bba4-7a16-4707-845f-3fd6c8728444",
   "metadata": {},
   "outputs": [
    {
     "name": "stdout",
     "output_type": "stream",
     "text": [
      "\n",
      "Prompt: Human: Classifique o resultado do recurso como \"RECURSO ACEITO\", \"RECURSO NEGADO\" ou \"RECURSO PARCIALMENTE ACEITO\". Responda com a classificação e justifique sua resposta.\n",
      "\n",
      "Texto:\n",
      "COMPOSIÇÃO: DESEMBARGADOR  ELEITORAL RAIMUNDO NONATO  SILVA SANTOS\n",
      "(PRESIDENTE),  DESEMBARGADOR  ELEITORAL  FRANCISCO  GLADYSON  PONTES,\n",
      "\n",
      "DANIEL CARVALHO CARNEIRO, DESEMBARGADOR ELEITORAL LUCIANO NUNES MAIA\n",
      "FREIRE, DESEMBARGADOR ELEITORAL SUBSTITUTO ROGÉRIO FEITOSA CARVALHO MOTA.\n",
      "\n",
      "DECISÃO: Acordam os Membros do Tribunal Regional Eleitoral do Ceará, por unanimidade, em conhecer\n",
      "do recurso para negar-lhe provimento, nos termos do voto do Relator.\n",
      "\n",
      "DESEMBARGADOR ELEITORAL GLÊDISON MARQUES FERNANDES, DESEMBARGADOR\n",
      "ELEITORAL FRANCISCO ÉRICO CARVALHO SILVEIRA, DESEMBARGADOR ELEITORAL\n",
      "\n",
      "Classificação:\n",
      "\n",
      "Tokens: 337\n",
      "A classificação do resultado do recurso é \"RECURSO NEGADO\".\n",
      "\n",
      "Justificativa:\n",
      "\n",
      "* O texto indica que a decisão do Tribunal Regional Eleitoral do Ceará é de negar provimento ao recurso, o que é expresso na frase \"Acordam os Membros do Tribunal Regional Eleitoral do Ceará, por unanimidade, em conhecer do recurso para negar-lhe provimento\".\n",
      "* Além disso, a decisão é tomada por unanimidade, o que significa que todos os membros do tribunal concordaram na negação do recurso.\n",
      "* Não há menção a aceitação parcial ou a necessidade de revisão da decisão, o que sugere que o recurso foi completamente negado.\n"
     ]
    }
   ],
   "source": [
    "decisao_verbosa = stuff(doc, 0, results, 'decisao', decisao_prompt)"
   ]
  },
  {
   "cell_type": "code",
   "execution_count": 54,
   "id": "070943cd",
   "metadata": {},
   "outputs": [],
   "source": [
    "decisao_pontual_prompt = PromptTemplate.from_template(\n",
    "    \"\"\"Você receberá um texto no seguinte formato:\n",
    "\n",
    "    ```\n",
    "    Classificação: {{Classificação}}\n",
    "\n",
    "    Justificativa:\n",
    "\n",
    "    {{Justificativa}}\n",
    "    ```\n",
    "\n",
    "    Texto:\n",
    "\n",
    "    {texto}\n",
    "\n",
    "    Responda apenas com o conteúdo de \"{{Classificação}}\".\n",
    "\n",
    "    Classificação:\n",
    "    \"\"\"\n",
    ")"
   ]
  },
  {
   "cell_type": "code",
   "execution_count": 55,
   "id": "78b33a4d",
   "metadata": {},
   "outputs": [
    {
     "name": "stdout",
     "output_type": "stream",
     "text": [
      "\n",
      "Prompt: Human: Você receberá um texto no seguinte formato:\n",
      "\n",
      "    ```\n",
      "    Classificação: {Classificação}\n",
      "\n",
      "    Justificativa:\n",
      "\n",
      "    {Justificativa}\n",
      "    ```\n",
      "\n",
      "    Texto:\n",
      "\n",
      "    A classificação do resultado do recurso é \"RECURSO NEGADO\".\n",
      "\n",
      "Justificativa:\n",
      "\n",
      "* O texto indica que a decisão do Tribunal Regional Eleitoral do Ceará é de negar provimento ao recurso, o que é expresso na frase \"Acordam os Membros do Tribunal Regional Eleitoral do Ceará, por unanimidade, em conhecer do recurso para negar-lhe provimento\".\n",
      "* Além disso, a decisão é tomada por unanimidade, o que significa que todos os membros do tribunal concordaram na negação do recurso.\n",
      "* Não há menção a aceitação parcial ou a necessidade de revisão da decisão, o que sugere que o recurso foi completamente negado.\n",
      "\n",
      "    Responda apenas com o conteúdo de \"{Classificação}\".\n",
      "\n",
      "    Classificação:\n",
      "    \n",
      "\n",
      "Tokens: 327\n",
      "RECURSO NEGADO.\n"
     ]
    }
   ],
   "source": [
    "llm = get_llama(log_callbacks=True)\n",
    "decisao_chain = decisao_pontual_prompt | llm\n",
    "\n",
    "results['decisao']['response'] = decisao_chain.invoke({'texto': decisao_verbosa}).content\n",
    "print(results['decisao']['response'])"
   ]
  },
  {
   "cell_type": "markdown",
   "id": "5ba26cbb",
   "metadata": {},
   "source": [
    "# Visualizando Resumo"
   ]
  },
  {
   "cell_type": "code",
   "execution_count": 56,
   "id": "5bbb475a-5811-4eab-a525-6c269d01e051",
   "metadata": {},
   "outputs": [
    {
     "name": "stdout",
     "output_type": "stream",
     "text": [
      "# Tribunal Regional Eleitoral do Ceará\n",
      "\n",
      "-   Número do processo: 0600012-49.2024.6.06.0033\n",
      "-   Origem: CANINDÉ/CE\n",
      "-   Relator: DESEMBARGADOR ELEITORAL DANIEL CARVALHO CARNEIRO\n",
      "-   Recorrente: ANTÔNIO ILOMAR VASCONCELOS CRUZ\n",
      "-   Advogados(as): FRANCISCO JARDEL RODRIGUES DE SOUSA - OAB CE32787-A, LIDENIRA CAVALCANTE MENDONÇA VIEIRA - OAB CE0016731\n",
      "-   Recorrido: MINISTÉRIO PÚBLICO ELEITORAL\n",
      "\n",
      "## Relatório\n",
      "\n",
      "**Relatório (O Caso)**: O caso envolve um recurso eleitoral apresentado pelo candidato Ilomar, que alega que sua pré-candidatura foi prejudicada pela realização de propaganda eleitoral antecipada. O juiz decidiu que o ato do candidato Ilomar foi caracterizado como propaganda eleitoral antecipada e imposta a penalidade do artigo 36, § 3º, da Lei 9.504/97.\n",
      "\n",
      "**Informações iniciais do processo**: O autor do recurso pediu a anulação da decisão do juiz que considerou a propaganda eleitoral antecipada e a aplicação da penalidade. O réu alegou que não havia pedido explícito de votos ou conduta que prejudicasse a igualdade entre os candidatos.\n",
      "\n",
      "**Decisão do juiz no processo inicial**: O juiz decidiu que o ato do candidato Ilomar foi caracterizado como propaganda eleitoral antecipada e imposta a penalidade do artigo 36, § 3º, da Lei 9.504/97.\n",
      "\n",
      "**Artigos de lei e fundamentos jurídicos relevantes**: O artigo 36 da Lei 9.504/97 proíbe a propaganda eleitoral antecipada, que é definida como a realização de atos de propaganda antes do período autorizado pela legislação.\n",
      "\n",
      "**Quem recorreu e o que alegou**: O candidato Ilomar recorreu à decisão do juiz, alegando que sua pré-candidatura foi prejudicada pela propaganda eleitoral antecipada. Ele também argumentou que não havia pedido explícito de votos ou conduta que prejudicasse a igualdade entre os candidatos.\n",
      "\n",
      "**Caixa de texto explicativa**: Propaganda antecipada negativa: A propaganda eleitoral antecipada negativa acontece quando, antes de 16 de agosto do ano eleitoral (art. 36 da Lei nº 9.504/1997), alguém faz críticas para prejudicar adversários políticos e influenciar eleitores. Essa prática é proibida e pode resultar em multa.\n",
      "\n",
      "**Conclusão**: O caso envolve uma disputa sobre a propaganda eleitoral antecipada e sua aplicação à penalidade. A decisão do juiz foi baseada na interpretação da lei e nos fatos apresentados no processo.\n",
      "\n",
      "## Voto\n",
      "\n",
      "**Voto**\n",
      "\n",
      "A decisão do Tribunal é motivada pela análise das evidências apresentadas pelos recorrentes, que comprovam a realização de um evento político no dia 17 de fevereiro de 2024, em benefício da pré-candidatura do recorrente Antônio Ilomar Vasconcelos Cruz. O evento foi realizado no contexto do lançamento da pré-candidatura e contou com a presença de lideranças políticas e eleitores.\n",
      "\n",
      "A propaganda eleitoral antecipada é caracterizada pela realização de eventos políticos que não estão dentro do período permitido pela lei, além de utilizar elementos que traduzem o pedido explícito de votos. Nesse caso, o evento contou com a distribuição de materiais típicos de campanha e a utilização de palavras mágicas, como a frase \"faz o que eu fizer\" para o recorrente.\n",
      "\n",
      "A decisão do Tribunal é baseada nos critérios estabelecidos pela jurisprudência do TSE, que considera a propaganda eleitoral extemporânea irregular quando há a presença de referência direta ao pleito vindouro ou cargo em disputa, pedido explícito de voto ou uso de \"palavras mágicas\" para esse fim, realização por forma vedada para a propaganda eleitoral no período permitido e violação à paridade de armas entre os possíveis concorrentes.\n",
      "\n",
      "**Princípios legais aplicados:** Art. 36, § 3º da Lei nº 9.504/97\n",
      "\n",
      "**Interpretação do Tribunal:** A decisão do Tribunal é baseada na interpretação da lei e na jurisprudência do TSE, que considera a propaganda eleitoral antecipada como irregular quando há a presença de elementos caracterizadores.\n",
      "\n",
      "**Argumentos relevantes:** A presença de referência direta ao pleito vindouro ou cargo em disputa, pedido explícito de voto ou uso de \"palavras mágicas\" para esse fim, realização por forma vedada para a propaganda eleitoral no período permitido e violação à paridade de armas entre os possíveis concorrentes.\n",
      "\n",
      "**Conclusão e Decisão:** Conforme consta nos autos, o evento realizado em benefício da pré-candidatura do recorrente Antônio Ilomar Vasconcelos Cruz contou com a presença de elementos caracterizadores da propaganda eleitoral antecipada. Portanto, a decisão do Tribunal é baseada na interpretação da lei e na jurisprudência do TSE, que considera a propaganda eleitoral extemporânea irregular quando há a presença de referência direta ao pleito vindouro ou cargo em disputa, pedido explícito de voto ou uso de \"palavras mágicas\" para esse fim, realização por forma vedada para a propaganda eleitoral no período permitido e violação à paridade de armas entre os possíveis concorrentes.\n",
      "\n",
      "## Decisão\n",
      "\n",
      "RECURSO NEGADO.\n",
      "\n"
     ]
    }
   ],
   "source": [
    "acordao = f\"\"\"# Tribunal Regional Eleitoral do Ceará\n",
    "\n",
    "{results['cabecalho']['response']}\n",
    "\n",
    "## Relatório\n",
    "\n",
    "{results['relatorio']['response']}\n",
    "\n",
    "## Voto\n",
    "\n",
    "{results['voto']['response']}\n",
    "\n",
    "## Decisão\n",
    "\n",
    "{results['decisao']['response']}\n",
    "\"\"\"\n",
    "print(acordao)"
   ]
  },
  {
   "cell_type": "code",
   "execution_count": 57,
   "id": "80c288de",
   "metadata": {},
   "outputs": [
    {
     "name": "stdout",
     "output_type": "stream",
     "text": [
      "{'bertscore': 0.749885618686676, 'cosine': 0.36415524971935453}\n"
     ]
    }
   ],
   "source": [
    "from semantic_similarity import get_similarity_score\n",
    "\n",
    "\n",
    "original_content = open(file_path, 'r').read()\n",
    "evaluation = {\n",
    "    'cosine': get_similarity_score(acordao, original_content, 'cosine'),\n",
    "    'bertscore': get_similarity_score(acordao, original_content, 'bertscore'),\n",
    "}\n",
    "\n",
    "pprint(evaluation)"
   ]
  },
  {
   "cell_type": "code",
   "execution_count": 21,
   "id": "1505d76a-af90-4f42-a724-97076453539b",
   "metadata": {},
   "outputs": [],
   "source": [
    "simplificar_relatorio_prompt = PromptTemplate.from_template(\n",
    "    \"\"\"\n",
    "    Você é um especialista jurídico com foco em simplificação de documentos legais. Sua missão é reescrever documentos legais em linguagem simplificada, visando o entendimento de pessoas não familiarizadas com o linguajar jurídico. Mantenha a estrutura dos documentos que receber, preservando os títulos e subtítulos, exceto a conclusão, entre outros componentes estruturais do texto. Preserve as informações principais do texto original de forma fiel.\n",
    "\n",
    "    ### CONTEXTO\n",
    "    ```\n",
    "    {context}\n",
    "    ```\n",
    "    ### FIM DO CONTEXTO\n",
    "\n",
    "    Texto simplificado:\n",
    "    \"\"\"\n",
    ")"
   ]
  },
  {
   "cell_type": "code",
   "execution_count": 22,
   "id": "9ddf7797",
   "metadata": {},
   "outputs": [
    {
     "ename": "KeyboardInterrupt",
     "evalue": "",
     "output_type": "error",
     "traceback": [
      "\u001b[0;31m---------------------------------------------------------------------------\u001b[0m",
      "\u001b[0;31mKeyboardInterrupt\u001b[0m                         Traceback (most recent call last)",
      "Cell \u001b[0;32mIn[22], line 2\u001b[0m\n\u001b[1;32m      1\u001b[0m simplificar_chain \u001b[38;5;241m=\u001b[39m simplificar_relatorio_prompt \u001b[38;5;241m|\u001b[39m get_llama(\u001b[38;5;241m0\u001b[39m)\n\u001b[0;32m----> 2\u001b[0m result \u001b[38;5;241m=\u001b[39m \u001b[43msimplificar_chain\u001b[49m\u001b[38;5;241;43m.\u001b[39;49m\u001b[43minvoke\u001b[49m\u001b[43m(\u001b[49m\u001b[43m{\u001b[49m\u001b[38;5;124;43m'\u001b[39;49m\u001b[38;5;124;43mcontext\u001b[39;49m\u001b[38;5;124;43m'\u001b[39;49m\u001b[43m:\u001b[49m\u001b[43m \u001b[49m\u001b[43mresults\u001b[49m\u001b[43m[\u001b[49m\u001b[38;5;124;43m'\u001b[39;49m\u001b[38;5;124;43mrelatorio\u001b[39;49m\u001b[38;5;124;43m'\u001b[39;49m\u001b[43m]\u001b[49m\u001b[43m[\u001b[49m\u001b[38;5;124;43m'\u001b[39;49m\u001b[38;5;124;43mresponse\u001b[39;49m\u001b[38;5;124;43m'\u001b[39;49m\u001b[43m]\u001b[49m\u001b[43m}\u001b[49m\u001b[43m)\u001b[49m\n",
      "File \u001b[0;32m~/LIODS/repos/simplificacao/.venv/lib/python3.12/site-packages/langchain_core/runnables/base.py:3024\u001b[0m, in \u001b[0;36mRunnableSequence.invoke\u001b[0;34m(self, input, config, **kwargs)\u001b[0m\n\u001b[1;32m   3022\u001b[0m             \u001b[38;5;28minput\u001b[39m \u001b[38;5;241m=\u001b[39m context\u001b[38;5;241m.\u001b[39mrun(step\u001b[38;5;241m.\u001b[39minvoke, \u001b[38;5;28minput\u001b[39m, config, \u001b[38;5;241m*\u001b[39m\u001b[38;5;241m*\u001b[39mkwargs)\n\u001b[1;32m   3023\u001b[0m         \u001b[38;5;28;01melse\u001b[39;00m:\n\u001b[0;32m-> 3024\u001b[0m             \u001b[38;5;28minput\u001b[39m \u001b[38;5;241m=\u001b[39m \u001b[43mcontext\u001b[49m\u001b[38;5;241;43m.\u001b[39;49m\u001b[43mrun\u001b[49m\u001b[43m(\u001b[49m\u001b[43mstep\u001b[49m\u001b[38;5;241;43m.\u001b[39;49m\u001b[43minvoke\u001b[49m\u001b[43m,\u001b[49m\u001b[43m \u001b[49m\u001b[38;5;28;43minput\u001b[39;49m\u001b[43m,\u001b[49m\u001b[43m \u001b[49m\u001b[43mconfig\u001b[49m\u001b[43m)\u001b[49m\n\u001b[1;32m   3025\u001b[0m \u001b[38;5;66;03m# finish the root run\u001b[39;00m\n\u001b[1;32m   3026\u001b[0m \u001b[38;5;28;01mexcept\u001b[39;00m \u001b[38;5;167;01mBaseException\u001b[39;00m \u001b[38;5;28;01mas\u001b[39;00m e:\n",
      "File \u001b[0;32m~/LIODS/repos/simplificacao/.venv/lib/python3.12/site-packages/langchain_core/language_models/chat_models.py:286\u001b[0m, in \u001b[0;36mBaseChatModel.invoke\u001b[0;34m(self, input, config, stop, **kwargs)\u001b[0m\n\u001b[1;32m    275\u001b[0m \u001b[38;5;28;01mdef\u001b[39;00m \u001b[38;5;21minvoke\u001b[39m(\n\u001b[1;32m    276\u001b[0m     \u001b[38;5;28mself\u001b[39m,\n\u001b[1;32m    277\u001b[0m     \u001b[38;5;28minput\u001b[39m: LanguageModelInput,\n\u001b[0;32m   (...)\u001b[0m\n\u001b[1;32m    281\u001b[0m     \u001b[38;5;241m*\u001b[39m\u001b[38;5;241m*\u001b[39mkwargs: Any,\n\u001b[1;32m    282\u001b[0m ) \u001b[38;5;241m-\u001b[39m\u001b[38;5;241m>\u001b[39m BaseMessage:\n\u001b[1;32m    283\u001b[0m     config \u001b[38;5;241m=\u001b[39m ensure_config(config)\n\u001b[1;32m    284\u001b[0m     \u001b[38;5;28;01mreturn\u001b[39;00m cast(\n\u001b[1;32m    285\u001b[0m         ChatGeneration,\n\u001b[0;32m--> 286\u001b[0m         \u001b[38;5;28;43mself\u001b[39;49m\u001b[38;5;241;43m.\u001b[39;49m\u001b[43mgenerate_prompt\u001b[49m\u001b[43m(\u001b[49m\n\u001b[1;32m    287\u001b[0m \u001b[43m            \u001b[49m\u001b[43m[\u001b[49m\u001b[38;5;28;43mself\u001b[39;49m\u001b[38;5;241;43m.\u001b[39;49m\u001b[43m_convert_input\u001b[49m\u001b[43m(\u001b[49m\u001b[38;5;28;43minput\u001b[39;49m\u001b[43m)\u001b[49m\u001b[43m]\u001b[49m\u001b[43m,\u001b[49m\n\u001b[1;32m    288\u001b[0m \u001b[43m            \u001b[49m\u001b[43mstop\u001b[49m\u001b[38;5;241;43m=\u001b[39;49m\u001b[43mstop\u001b[49m\u001b[43m,\u001b[49m\n\u001b[1;32m    289\u001b[0m \u001b[43m            \u001b[49m\u001b[43mcallbacks\u001b[49m\u001b[38;5;241;43m=\u001b[39;49m\u001b[43mconfig\u001b[49m\u001b[38;5;241;43m.\u001b[39;49m\u001b[43mget\u001b[49m\u001b[43m(\u001b[49m\u001b[38;5;124;43m\"\u001b[39;49m\u001b[38;5;124;43mcallbacks\u001b[39;49m\u001b[38;5;124;43m\"\u001b[39;49m\u001b[43m)\u001b[49m\u001b[43m,\u001b[49m\n\u001b[1;32m    290\u001b[0m \u001b[43m            \u001b[49m\u001b[43mtags\u001b[49m\u001b[38;5;241;43m=\u001b[39;49m\u001b[43mconfig\u001b[49m\u001b[38;5;241;43m.\u001b[39;49m\u001b[43mget\u001b[49m\u001b[43m(\u001b[49m\u001b[38;5;124;43m\"\u001b[39;49m\u001b[38;5;124;43mtags\u001b[39;49m\u001b[38;5;124;43m\"\u001b[39;49m\u001b[43m)\u001b[49m\u001b[43m,\u001b[49m\n\u001b[1;32m    291\u001b[0m \u001b[43m            \u001b[49m\u001b[43mmetadata\u001b[49m\u001b[38;5;241;43m=\u001b[39;49m\u001b[43mconfig\u001b[49m\u001b[38;5;241;43m.\u001b[39;49m\u001b[43mget\u001b[49m\u001b[43m(\u001b[49m\u001b[38;5;124;43m\"\u001b[39;49m\u001b[38;5;124;43mmetadata\u001b[39;49m\u001b[38;5;124;43m\"\u001b[39;49m\u001b[43m)\u001b[49m\u001b[43m,\u001b[49m\n\u001b[1;32m    292\u001b[0m \u001b[43m            \u001b[49m\u001b[43mrun_name\u001b[49m\u001b[38;5;241;43m=\u001b[39;49m\u001b[43mconfig\u001b[49m\u001b[38;5;241;43m.\u001b[39;49m\u001b[43mget\u001b[49m\u001b[43m(\u001b[49m\u001b[38;5;124;43m\"\u001b[39;49m\u001b[38;5;124;43mrun_name\u001b[39;49m\u001b[38;5;124;43m\"\u001b[39;49m\u001b[43m)\u001b[49m\u001b[43m,\u001b[49m\n\u001b[1;32m    293\u001b[0m \u001b[43m            \u001b[49m\u001b[43mrun_id\u001b[49m\u001b[38;5;241;43m=\u001b[39;49m\u001b[43mconfig\u001b[49m\u001b[38;5;241;43m.\u001b[39;49m\u001b[43mpop\u001b[49m\u001b[43m(\u001b[49m\u001b[38;5;124;43m\"\u001b[39;49m\u001b[38;5;124;43mrun_id\u001b[39;49m\u001b[38;5;124;43m\"\u001b[39;49m\u001b[43m,\u001b[49m\u001b[43m \u001b[49m\u001b[38;5;28;43;01mNone\u001b[39;49;00m\u001b[43m)\u001b[49m\u001b[43m,\u001b[49m\n\u001b[1;32m    294\u001b[0m \u001b[43m            \u001b[49m\u001b[38;5;241;43m*\u001b[39;49m\u001b[38;5;241;43m*\u001b[39;49m\u001b[43mkwargs\u001b[49m\u001b[43m,\u001b[49m\n\u001b[1;32m    295\u001b[0m \u001b[43m        \u001b[49m\u001b[43m)\u001b[49m\u001b[38;5;241m.\u001b[39mgenerations[\u001b[38;5;241m0\u001b[39m][\u001b[38;5;241m0\u001b[39m],\n\u001b[1;32m    296\u001b[0m     )\u001b[38;5;241m.\u001b[39mmessage\n",
      "File \u001b[0;32m~/LIODS/repos/simplificacao/.venv/lib/python3.12/site-packages/langchain_core/language_models/chat_models.py:786\u001b[0m, in \u001b[0;36mBaseChatModel.generate_prompt\u001b[0;34m(self, prompts, stop, callbacks, **kwargs)\u001b[0m\n\u001b[1;32m    778\u001b[0m \u001b[38;5;28;01mdef\u001b[39;00m \u001b[38;5;21mgenerate_prompt\u001b[39m(\n\u001b[1;32m    779\u001b[0m     \u001b[38;5;28mself\u001b[39m,\n\u001b[1;32m    780\u001b[0m     prompts: \u001b[38;5;28mlist\u001b[39m[PromptValue],\n\u001b[0;32m   (...)\u001b[0m\n\u001b[1;32m    783\u001b[0m     \u001b[38;5;241m*\u001b[39m\u001b[38;5;241m*\u001b[39mkwargs: Any,\n\u001b[1;32m    784\u001b[0m ) \u001b[38;5;241m-\u001b[39m\u001b[38;5;241m>\u001b[39m LLMResult:\n\u001b[1;32m    785\u001b[0m     prompt_messages \u001b[38;5;241m=\u001b[39m [p\u001b[38;5;241m.\u001b[39mto_messages() \u001b[38;5;28;01mfor\u001b[39;00m p \u001b[38;5;129;01min\u001b[39;00m prompts]\n\u001b[0;32m--> 786\u001b[0m     \u001b[38;5;28;01mreturn\u001b[39;00m \u001b[38;5;28;43mself\u001b[39;49m\u001b[38;5;241;43m.\u001b[39;49m\u001b[43mgenerate\u001b[49m\u001b[43m(\u001b[49m\u001b[43mprompt_messages\u001b[49m\u001b[43m,\u001b[49m\u001b[43m \u001b[49m\u001b[43mstop\u001b[49m\u001b[38;5;241;43m=\u001b[39;49m\u001b[43mstop\u001b[49m\u001b[43m,\u001b[49m\u001b[43m \u001b[49m\u001b[43mcallbacks\u001b[49m\u001b[38;5;241;43m=\u001b[39;49m\u001b[43mcallbacks\u001b[49m\u001b[43m,\u001b[49m\u001b[43m \u001b[49m\u001b[38;5;241;43m*\u001b[39;49m\u001b[38;5;241;43m*\u001b[39;49m\u001b[43mkwargs\u001b[49m\u001b[43m)\u001b[49m\n",
      "File \u001b[0;32m~/LIODS/repos/simplificacao/.venv/lib/python3.12/site-packages/langchain_core/language_models/chat_models.py:643\u001b[0m, in \u001b[0;36mBaseChatModel.generate\u001b[0;34m(self, messages, stop, callbacks, tags, metadata, run_name, run_id, **kwargs)\u001b[0m\n\u001b[1;32m    641\u001b[0m         \u001b[38;5;28;01mif\u001b[39;00m run_managers:\n\u001b[1;32m    642\u001b[0m             run_managers[i]\u001b[38;5;241m.\u001b[39mon_llm_error(e, response\u001b[38;5;241m=\u001b[39mLLMResult(generations\u001b[38;5;241m=\u001b[39m[]))\n\u001b[0;32m--> 643\u001b[0m         \u001b[38;5;28;01mraise\u001b[39;00m e\n\u001b[1;32m    644\u001b[0m flattened_outputs \u001b[38;5;241m=\u001b[39m [\n\u001b[1;32m    645\u001b[0m     LLMResult(generations\u001b[38;5;241m=\u001b[39m[res\u001b[38;5;241m.\u001b[39mgenerations], llm_output\u001b[38;5;241m=\u001b[39mres\u001b[38;5;241m.\u001b[39mllm_output)  \u001b[38;5;66;03m# type: ignore[list-item]\u001b[39;00m\n\u001b[1;32m    646\u001b[0m     \u001b[38;5;28;01mfor\u001b[39;00m res \u001b[38;5;129;01min\u001b[39;00m results\n\u001b[1;32m    647\u001b[0m ]\n\u001b[1;32m    648\u001b[0m llm_output \u001b[38;5;241m=\u001b[39m \u001b[38;5;28mself\u001b[39m\u001b[38;5;241m.\u001b[39m_combine_llm_outputs([res\u001b[38;5;241m.\u001b[39mllm_output \u001b[38;5;28;01mfor\u001b[39;00m res \u001b[38;5;129;01min\u001b[39;00m results])\n",
      "File \u001b[0;32m~/LIODS/repos/simplificacao/.venv/lib/python3.12/site-packages/langchain_core/language_models/chat_models.py:633\u001b[0m, in \u001b[0;36mBaseChatModel.generate\u001b[0;34m(self, messages, stop, callbacks, tags, metadata, run_name, run_id, **kwargs)\u001b[0m\n\u001b[1;32m    630\u001b[0m \u001b[38;5;28;01mfor\u001b[39;00m i, m \u001b[38;5;129;01min\u001b[39;00m \u001b[38;5;28menumerate\u001b[39m(messages):\n\u001b[1;32m    631\u001b[0m     \u001b[38;5;28;01mtry\u001b[39;00m:\n\u001b[1;32m    632\u001b[0m         results\u001b[38;5;241m.\u001b[39mappend(\n\u001b[0;32m--> 633\u001b[0m             \u001b[38;5;28;43mself\u001b[39;49m\u001b[38;5;241;43m.\u001b[39;49m\u001b[43m_generate_with_cache\u001b[49m\u001b[43m(\u001b[49m\n\u001b[1;32m    634\u001b[0m \u001b[43m                \u001b[49m\u001b[43mm\u001b[49m\u001b[43m,\u001b[49m\n\u001b[1;32m    635\u001b[0m \u001b[43m                \u001b[49m\u001b[43mstop\u001b[49m\u001b[38;5;241;43m=\u001b[39;49m\u001b[43mstop\u001b[49m\u001b[43m,\u001b[49m\n\u001b[1;32m    636\u001b[0m \u001b[43m                \u001b[49m\u001b[43mrun_manager\u001b[49m\u001b[38;5;241;43m=\u001b[39;49m\u001b[43mrun_managers\u001b[49m\u001b[43m[\u001b[49m\u001b[43mi\u001b[49m\u001b[43m]\u001b[49m\u001b[43m \u001b[49m\u001b[38;5;28;43;01mif\u001b[39;49;00m\u001b[43m \u001b[49m\u001b[43mrun_managers\u001b[49m\u001b[43m \u001b[49m\u001b[38;5;28;43;01melse\u001b[39;49;00m\u001b[43m \u001b[49m\u001b[38;5;28;43;01mNone\u001b[39;49;00m\u001b[43m,\u001b[49m\n\u001b[1;32m    637\u001b[0m \u001b[43m                \u001b[49m\u001b[38;5;241;43m*\u001b[39;49m\u001b[38;5;241;43m*\u001b[39;49m\u001b[43mkwargs\u001b[49m\u001b[43m,\u001b[49m\n\u001b[1;32m    638\u001b[0m \u001b[43m            \u001b[49m\u001b[43m)\u001b[49m\n\u001b[1;32m    639\u001b[0m         )\n\u001b[1;32m    640\u001b[0m     \u001b[38;5;28;01mexcept\u001b[39;00m \u001b[38;5;167;01mBaseException\u001b[39;00m \u001b[38;5;28;01mas\u001b[39;00m e:\n\u001b[1;32m    641\u001b[0m         \u001b[38;5;28;01mif\u001b[39;00m run_managers:\n",
      "File \u001b[0;32m~/LIODS/repos/simplificacao/.venv/lib/python3.12/site-packages/langchain_core/language_models/chat_models.py:851\u001b[0m, in \u001b[0;36mBaseChatModel._generate_with_cache\u001b[0;34m(self, messages, stop, run_manager, **kwargs)\u001b[0m\n\u001b[1;32m    849\u001b[0m \u001b[38;5;28;01melse\u001b[39;00m:\n\u001b[1;32m    850\u001b[0m     \u001b[38;5;28;01mif\u001b[39;00m inspect\u001b[38;5;241m.\u001b[39msignature(\u001b[38;5;28mself\u001b[39m\u001b[38;5;241m.\u001b[39m_generate)\u001b[38;5;241m.\u001b[39mparameters\u001b[38;5;241m.\u001b[39mget(\u001b[38;5;124m\"\u001b[39m\u001b[38;5;124mrun_manager\u001b[39m\u001b[38;5;124m\"\u001b[39m):\n\u001b[0;32m--> 851\u001b[0m         result \u001b[38;5;241m=\u001b[39m \u001b[38;5;28;43mself\u001b[39;49m\u001b[38;5;241;43m.\u001b[39;49m\u001b[43m_generate\u001b[49m\u001b[43m(\u001b[49m\n\u001b[1;32m    852\u001b[0m \u001b[43m            \u001b[49m\u001b[43mmessages\u001b[49m\u001b[43m,\u001b[49m\u001b[43m \u001b[49m\u001b[43mstop\u001b[49m\u001b[38;5;241;43m=\u001b[39;49m\u001b[43mstop\u001b[49m\u001b[43m,\u001b[49m\u001b[43m \u001b[49m\u001b[43mrun_manager\u001b[49m\u001b[38;5;241;43m=\u001b[39;49m\u001b[43mrun_manager\u001b[49m\u001b[43m,\u001b[49m\u001b[43m \u001b[49m\u001b[38;5;241;43m*\u001b[39;49m\u001b[38;5;241;43m*\u001b[39;49m\u001b[43mkwargs\u001b[49m\n\u001b[1;32m    853\u001b[0m \u001b[43m        \u001b[49m\u001b[43m)\u001b[49m\n\u001b[1;32m    854\u001b[0m     \u001b[38;5;28;01melse\u001b[39;00m:\n\u001b[1;32m    855\u001b[0m         result \u001b[38;5;241m=\u001b[39m \u001b[38;5;28mself\u001b[39m\u001b[38;5;241m.\u001b[39m_generate(messages, stop\u001b[38;5;241m=\u001b[39mstop, \u001b[38;5;241m*\u001b[39m\u001b[38;5;241m*\u001b[39mkwargs)\n",
      "File \u001b[0;32m~/LIODS/repos/simplificacao/.venv/lib/python3.12/site-packages/langchain_ollama/chat_models.py:644\u001b[0m, in \u001b[0;36mChatOllama._generate\u001b[0;34m(self, messages, stop, run_manager, **kwargs)\u001b[0m\n\u001b[1;32m    637\u001b[0m \u001b[38;5;28;01mdef\u001b[39;00m \u001b[38;5;21m_generate\u001b[39m(\n\u001b[1;32m    638\u001b[0m     \u001b[38;5;28mself\u001b[39m,\n\u001b[1;32m    639\u001b[0m     messages: List[BaseMessage],\n\u001b[0;32m   (...)\u001b[0m\n\u001b[1;32m    642\u001b[0m     \u001b[38;5;241m*\u001b[39m\u001b[38;5;241m*\u001b[39mkwargs: Any,\n\u001b[1;32m    643\u001b[0m ) \u001b[38;5;241m-\u001b[39m\u001b[38;5;241m>\u001b[39m ChatResult:\n\u001b[0;32m--> 644\u001b[0m     final_chunk \u001b[38;5;241m=\u001b[39m \u001b[38;5;28;43mself\u001b[39;49m\u001b[38;5;241;43m.\u001b[39;49m\u001b[43m_chat_stream_with_aggregation\u001b[49m\u001b[43m(\u001b[49m\n\u001b[1;32m    645\u001b[0m \u001b[43m        \u001b[49m\u001b[43mmessages\u001b[49m\u001b[43m,\u001b[49m\u001b[43m \u001b[49m\u001b[43mstop\u001b[49m\u001b[43m,\u001b[49m\u001b[43m \u001b[49m\u001b[43mrun_manager\u001b[49m\u001b[43m,\u001b[49m\u001b[43m \u001b[49m\u001b[43mverbose\u001b[49m\u001b[38;5;241;43m=\u001b[39;49m\u001b[38;5;28;43mself\u001b[39;49m\u001b[38;5;241;43m.\u001b[39;49m\u001b[43mverbose\u001b[49m\u001b[43m,\u001b[49m\u001b[43m \u001b[49m\u001b[38;5;241;43m*\u001b[39;49m\u001b[38;5;241;43m*\u001b[39;49m\u001b[43mkwargs\u001b[49m\n\u001b[1;32m    646\u001b[0m \u001b[43m    \u001b[49m\u001b[43m)\u001b[49m\n\u001b[1;32m    647\u001b[0m     generation_info \u001b[38;5;241m=\u001b[39m final_chunk\u001b[38;5;241m.\u001b[39mgeneration_info\n\u001b[1;32m    648\u001b[0m     chat_generation \u001b[38;5;241m=\u001b[39m ChatGeneration(\n\u001b[1;32m    649\u001b[0m         message\u001b[38;5;241m=\u001b[39mAIMessage(\n\u001b[1;32m    650\u001b[0m             content\u001b[38;5;241m=\u001b[39mfinal_chunk\u001b[38;5;241m.\u001b[39mtext,\n\u001b[0;32m   (...)\u001b[0m\n\u001b[1;32m    654\u001b[0m         generation_info\u001b[38;5;241m=\u001b[39mgeneration_info,\n\u001b[1;32m    655\u001b[0m     )\n",
      "File \u001b[0;32m~/LIODS/repos/simplificacao/.venv/lib/python3.12/site-packages/langchain_ollama/chat_models.py:545\u001b[0m, in \u001b[0;36mChatOllama._chat_stream_with_aggregation\u001b[0;34m(self, messages, stop, run_manager, verbose, **kwargs)\u001b[0m\n\u001b[1;32m    536\u001b[0m \u001b[38;5;28;01mdef\u001b[39;00m \u001b[38;5;21m_chat_stream_with_aggregation\u001b[39m(\n\u001b[1;32m    537\u001b[0m     \u001b[38;5;28mself\u001b[39m,\n\u001b[1;32m    538\u001b[0m     messages: List[BaseMessage],\n\u001b[0;32m   (...)\u001b[0m\n\u001b[1;32m    542\u001b[0m     \u001b[38;5;241m*\u001b[39m\u001b[38;5;241m*\u001b[39mkwargs: Any,\n\u001b[1;32m    543\u001b[0m ) \u001b[38;5;241m-\u001b[39m\u001b[38;5;241m>\u001b[39m ChatGenerationChunk:\n\u001b[1;32m    544\u001b[0m     final_chunk \u001b[38;5;241m=\u001b[39m \u001b[38;5;28;01mNone\u001b[39;00m\n\u001b[0;32m--> 545\u001b[0m \u001b[43m    \u001b[49m\u001b[38;5;28;43;01mfor\u001b[39;49;00m\u001b[43m \u001b[49m\u001b[43mstream_resp\u001b[49m\u001b[43m \u001b[49m\u001b[38;5;129;43;01min\u001b[39;49;00m\u001b[43m \u001b[49m\u001b[38;5;28;43mself\u001b[39;49m\u001b[38;5;241;43m.\u001b[39;49m\u001b[43m_create_chat_stream\u001b[49m\u001b[43m(\u001b[49m\u001b[43mmessages\u001b[49m\u001b[43m,\u001b[49m\u001b[43m \u001b[49m\u001b[43mstop\u001b[49m\u001b[43m,\u001b[49m\u001b[43m \u001b[49m\u001b[38;5;241;43m*\u001b[39;49m\u001b[38;5;241;43m*\u001b[39;49m\u001b[43mkwargs\u001b[49m\u001b[43m)\u001b[49m\u001b[43m:\u001b[49m\n\u001b[1;32m    546\u001b[0m \u001b[43m        \u001b[49m\u001b[38;5;28;43;01mif\u001b[39;49;00m\u001b[43m \u001b[49m\u001b[38;5;129;43;01mnot\u001b[39;49;00m\u001b[43m \u001b[49m\u001b[38;5;28;43misinstance\u001b[39;49m\u001b[43m(\u001b[49m\u001b[43mstream_resp\u001b[49m\u001b[43m,\u001b[49m\u001b[43m \u001b[49m\u001b[38;5;28;43mstr\u001b[39;49m\u001b[43m)\u001b[49m\u001b[43m:\u001b[49m\n\u001b[1;32m    547\u001b[0m \u001b[43m            \u001b[49m\u001b[43mchunk\u001b[49m\u001b[43m \u001b[49m\u001b[38;5;241;43m=\u001b[39;49m\u001b[43m \u001b[49m\u001b[43mChatGenerationChunk\u001b[49m\u001b[43m(\u001b[49m\n\u001b[1;32m    548\u001b[0m \u001b[43m                \u001b[49m\u001b[43mmessage\u001b[49m\u001b[38;5;241;43m=\u001b[39;49m\u001b[43mAIMessageChunk\u001b[49m\u001b[43m(\u001b[49m\n\u001b[1;32m    549\u001b[0m \u001b[43m                    \u001b[49m\u001b[43mcontent\u001b[49m\u001b[38;5;241;43m=\u001b[39;49m\u001b[43m(\u001b[49m\n\u001b[0;32m   (...)\u001b[0m\n\u001b[1;32m    562\u001b[0m \u001b[43m                \u001b[49m\u001b[43m)\u001b[49m\u001b[43m,\u001b[49m\n\u001b[1;32m    563\u001b[0m \u001b[43m            \u001b[49m\u001b[43m)\u001b[49m\n",
      "File \u001b[0;32m~/LIODS/repos/simplificacao/.venv/lib/python3.12/site-packages/langchain_ollama/chat_models.py:527\u001b[0m, in \u001b[0;36mChatOllama._create_chat_stream\u001b[0;34m(self, messages, stop, **kwargs)\u001b[0m\n\u001b[1;32m    517\u001b[0m     \u001b[38;5;28;01myield\u001b[39;00m \u001b[38;5;28mself\u001b[39m\u001b[38;5;241m.\u001b[39m_client\u001b[38;5;241m.\u001b[39mchat(\n\u001b[1;32m    518\u001b[0m         model\u001b[38;5;241m=\u001b[39mparams[\u001b[38;5;124m\"\u001b[39m\u001b[38;5;124mmodel\u001b[39m\u001b[38;5;124m\"\u001b[39m],\n\u001b[1;32m    519\u001b[0m         messages\u001b[38;5;241m=\u001b[39mollama_messages,\n\u001b[0;32m   (...)\u001b[0m\n\u001b[1;32m    524\u001b[0m         tools\u001b[38;5;241m=\u001b[39mkwargs[\u001b[38;5;124m\"\u001b[39m\u001b[38;5;124mtools\u001b[39m\u001b[38;5;124m\"\u001b[39m],\n\u001b[1;32m    525\u001b[0m     )\n\u001b[1;32m    526\u001b[0m \u001b[38;5;28;01melse\u001b[39;00m:\n\u001b[0;32m--> 527\u001b[0m     \u001b[38;5;28;01myield from\u001b[39;00m \u001b[38;5;28mself\u001b[39m\u001b[38;5;241m.\u001b[39m_client\u001b[38;5;241m.\u001b[39mchat(\n\u001b[1;32m    528\u001b[0m         model\u001b[38;5;241m=\u001b[39mparams[\u001b[38;5;124m\"\u001b[39m\u001b[38;5;124mmodel\u001b[39m\u001b[38;5;124m\"\u001b[39m],\n\u001b[1;32m    529\u001b[0m         messages\u001b[38;5;241m=\u001b[39mollama_messages,\n\u001b[1;32m    530\u001b[0m         stream\u001b[38;5;241m=\u001b[39m\u001b[38;5;28;01mTrue\u001b[39;00m,\n\u001b[1;32m    531\u001b[0m         options\u001b[38;5;241m=\u001b[39mOptions(\u001b[38;5;241m*\u001b[39m\u001b[38;5;241m*\u001b[39mparams[\u001b[38;5;124m\"\u001b[39m\u001b[38;5;124moptions\u001b[39m\u001b[38;5;124m\"\u001b[39m]),\n\u001b[1;32m    532\u001b[0m         keep_alive\u001b[38;5;241m=\u001b[39mparams[\u001b[38;5;124m\"\u001b[39m\u001b[38;5;124mkeep_alive\u001b[39m\u001b[38;5;124m\"\u001b[39m],\n\u001b[1;32m    533\u001b[0m         \u001b[38;5;28mformat\u001b[39m\u001b[38;5;241m=\u001b[39mparams[\u001b[38;5;124m\"\u001b[39m\u001b[38;5;124mformat\u001b[39m\u001b[38;5;124m\"\u001b[39m],\n\u001b[1;32m    534\u001b[0m     )\n",
      "File \u001b[0;32m~/LIODS/repos/simplificacao/.venv/lib/python3.12/site-packages/ollama/_client.py:87\u001b[0m, in \u001b[0;36mClient._stream\u001b[0;34m(self, method, url, **kwargs)\u001b[0m\n\u001b[1;32m     84\u001b[0m   e\u001b[38;5;241m.\u001b[39mresponse\u001b[38;5;241m.\u001b[39mread()\n\u001b[1;32m     85\u001b[0m   \u001b[38;5;28;01mraise\u001b[39;00m ResponseError(e\u001b[38;5;241m.\u001b[39mresponse\u001b[38;5;241m.\u001b[39mtext, e\u001b[38;5;241m.\u001b[39mresponse\u001b[38;5;241m.\u001b[39mstatus_code) \u001b[38;5;28;01mfrom\u001b[39;00m \u001b[38;5;28;01mNone\u001b[39;00m\n\u001b[0;32m---> 87\u001b[0m \u001b[43m\u001b[49m\u001b[38;5;28;43;01mfor\u001b[39;49;00m\u001b[43m \u001b[49m\u001b[43mline\u001b[49m\u001b[43m \u001b[49m\u001b[38;5;129;43;01min\u001b[39;49;00m\u001b[43m \u001b[49m\u001b[43mr\u001b[49m\u001b[38;5;241;43m.\u001b[39;49m\u001b[43miter_lines\u001b[49m\u001b[43m(\u001b[49m\u001b[43m)\u001b[49m\u001b[43m:\u001b[49m\n\u001b[1;32m     88\u001b[0m \u001b[43m  \u001b[49m\u001b[43mpartial\u001b[49m\u001b[43m \u001b[49m\u001b[38;5;241;43m=\u001b[39;49m\u001b[43m \u001b[49m\u001b[43mjson\u001b[49m\u001b[38;5;241;43m.\u001b[39;49m\u001b[43mloads\u001b[49m\u001b[43m(\u001b[49m\u001b[43mline\u001b[49m\u001b[43m)\u001b[49m\n\u001b[1;32m     89\u001b[0m \u001b[43m  \u001b[49m\u001b[38;5;28;43;01mif\u001b[39;49;00m\u001b[43m \u001b[49m\u001b[43me\u001b[49m\u001b[43m \u001b[49m\u001b[38;5;241;43m:=\u001b[39;49m\u001b[43m \u001b[49m\u001b[43mpartial\u001b[49m\u001b[38;5;241;43m.\u001b[39;49m\u001b[43mget\u001b[49m\u001b[43m(\u001b[49m\u001b[38;5;124;43m'\u001b[39;49m\u001b[38;5;124;43merror\u001b[39;49m\u001b[38;5;124;43m'\u001b[39;49m\u001b[43m)\u001b[49m\u001b[43m:\u001b[49m\n",
      "File \u001b[0;32m~/LIODS/repos/simplificacao/.venv/lib/python3.12/site-packages/httpx/_models.py:863\u001b[0m, in \u001b[0;36mResponse.iter_lines\u001b[0;34m(self)\u001b[0m\n\u001b[1;32m    861\u001b[0m decoder \u001b[38;5;241m=\u001b[39m LineDecoder()\n\u001b[1;32m    862\u001b[0m \u001b[38;5;28;01mwith\u001b[39;00m request_context(request\u001b[38;5;241m=\u001b[39m\u001b[38;5;28mself\u001b[39m\u001b[38;5;241m.\u001b[39m_request):\n\u001b[0;32m--> 863\u001b[0m \u001b[43m    \u001b[49m\u001b[38;5;28;43;01mfor\u001b[39;49;00m\u001b[43m \u001b[49m\u001b[43mtext\u001b[49m\u001b[43m \u001b[49m\u001b[38;5;129;43;01min\u001b[39;49;00m\u001b[43m \u001b[49m\u001b[38;5;28;43mself\u001b[39;49m\u001b[38;5;241;43m.\u001b[39;49m\u001b[43miter_text\u001b[49m\u001b[43m(\u001b[49m\u001b[43m)\u001b[49m\u001b[43m:\u001b[49m\n\u001b[1;32m    864\u001b[0m \u001b[43m        \u001b[49m\u001b[38;5;28;43;01mfor\u001b[39;49;00m\u001b[43m \u001b[49m\u001b[43mline\u001b[49m\u001b[43m \u001b[49m\u001b[38;5;129;43;01min\u001b[39;49;00m\u001b[43m \u001b[49m\u001b[43mdecoder\u001b[49m\u001b[38;5;241;43m.\u001b[39;49m\u001b[43mdecode\u001b[49m\u001b[43m(\u001b[49m\u001b[43mtext\u001b[49m\u001b[43m)\u001b[49m\u001b[43m:\u001b[49m\n\u001b[1;32m    865\u001b[0m \u001b[43m            \u001b[49m\u001b[38;5;28;43;01myield\u001b[39;49;00m\u001b[43m \u001b[49m\u001b[43mline\u001b[49m\n",
      "File \u001b[0;32m~/LIODS/repos/simplificacao/.venv/lib/python3.12/site-packages/httpx/_models.py:850\u001b[0m, in \u001b[0;36mResponse.iter_text\u001b[0;34m(self, chunk_size)\u001b[0m\n\u001b[1;32m    848\u001b[0m chunker \u001b[38;5;241m=\u001b[39m TextChunker(chunk_size\u001b[38;5;241m=\u001b[39mchunk_size)\n\u001b[1;32m    849\u001b[0m \u001b[38;5;28;01mwith\u001b[39;00m request_context(request\u001b[38;5;241m=\u001b[39m\u001b[38;5;28mself\u001b[39m\u001b[38;5;241m.\u001b[39m_request):\n\u001b[0;32m--> 850\u001b[0m \u001b[43m    \u001b[49m\u001b[38;5;28;43;01mfor\u001b[39;49;00m\u001b[43m \u001b[49m\u001b[43mbyte_content\u001b[49m\u001b[43m \u001b[49m\u001b[38;5;129;43;01min\u001b[39;49;00m\u001b[43m \u001b[49m\u001b[38;5;28;43mself\u001b[39;49m\u001b[38;5;241;43m.\u001b[39;49m\u001b[43miter_bytes\u001b[49m\u001b[43m(\u001b[49m\u001b[43m)\u001b[49m\u001b[43m:\u001b[49m\n\u001b[1;32m    851\u001b[0m \u001b[43m        \u001b[49m\u001b[43mtext_content\u001b[49m\u001b[43m \u001b[49m\u001b[38;5;241;43m=\u001b[39;49m\u001b[43m \u001b[49m\u001b[43mdecoder\u001b[49m\u001b[38;5;241;43m.\u001b[39;49m\u001b[43mdecode\u001b[49m\u001b[43m(\u001b[49m\u001b[43mbyte_content\u001b[49m\u001b[43m)\u001b[49m\n\u001b[1;32m    852\u001b[0m \u001b[43m        \u001b[49m\u001b[38;5;28;43;01mfor\u001b[39;49;00m\u001b[43m \u001b[49m\u001b[43mchunk\u001b[49m\u001b[43m \u001b[49m\u001b[38;5;129;43;01min\u001b[39;49;00m\u001b[43m \u001b[49m\u001b[43mchunker\u001b[49m\u001b[38;5;241;43m.\u001b[39;49m\u001b[43mdecode\u001b[49m\u001b[43m(\u001b[49m\u001b[43mtext_content\u001b[49m\u001b[43m)\u001b[49m\u001b[43m:\u001b[49m\n",
      "File \u001b[0;32m~/LIODS/repos/simplificacao/.venv/lib/python3.12/site-packages/httpx/_models.py:831\u001b[0m, in \u001b[0;36mResponse.iter_bytes\u001b[0;34m(self, chunk_size)\u001b[0m\n\u001b[1;32m    829\u001b[0m chunker \u001b[38;5;241m=\u001b[39m ByteChunker(chunk_size\u001b[38;5;241m=\u001b[39mchunk_size)\n\u001b[1;32m    830\u001b[0m \u001b[38;5;28;01mwith\u001b[39;00m request_context(request\u001b[38;5;241m=\u001b[39m\u001b[38;5;28mself\u001b[39m\u001b[38;5;241m.\u001b[39m_request):\n\u001b[0;32m--> 831\u001b[0m \u001b[43m    \u001b[49m\u001b[38;5;28;43;01mfor\u001b[39;49;00m\u001b[43m \u001b[49m\u001b[43mraw_bytes\u001b[49m\u001b[43m \u001b[49m\u001b[38;5;129;43;01min\u001b[39;49;00m\u001b[43m \u001b[49m\u001b[38;5;28;43mself\u001b[39;49m\u001b[38;5;241;43m.\u001b[39;49m\u001b[43miter_raw\u001b[49m\u001b[43m(\u001b[49m\u001b[43m)\u001b[49m\u001b[43m:\u001b[49m\n\u001b[1;32m    832\u001b[0m \u001b[43m        \u001b[49m\u001b[43mdecoded\u001b[49m\u001b[43m \u001b[49m\u001b[38;5;241;43m=\u001b[39;49m\u001b[43m \u001b[49m\u001b[43mdecoder\u001b[49m\u001b[38;5;241;43m.\u001b[39;49m\u001b[43mdecode\u001b[49m\u001b[43m(\u001b[49m\u001b[43mraw_bytes\u001b[49m\u001b[43m)\u001b[49m\n\u001b[1;32m    833\u001b[0m \u001b[43m        \u001b[49m\u001b[38;5;28;43;01mfor\u001b[39;49;00m\u001b[43m \u001b[49m\u001b[43mchunk\u001b[49m\u001b[43m \u001b[49m\u001b[38;5;129;43;01min\u001b[39;49;00m\u001b[43m \u001b[49m\u001b[43mchunker\u001b[49m\u001b[38;5;241;43m.\u001b[39;49m\u001b[43mdecode\u001b[49m\u001b[43m(\u001b[49m\u001b[43mdecoded\u001b[49m\u001b[43m)\u001b[49m\u001b[43m:\u001b[49m\n",
      "File \u001b[0;32m~/LIODS/repos/simplificacao/.venv/lib/python3.12/site-packages/httpx/_models.py:885\u001b[0m, in \u001b[0;36mResponse.iter_raw\u001b[0;34m(self, chunk_size)\u001b[0m\n\u001b[1;32m    882\u001b[0m chunker \u001b[38;5;241m=\u001b[39m ByteChunker(chunk_size\u001b[38;5;241m=\u001b[39mchunk_size)\n\u001b[1;32m    884\u001b[0m \u001b[38;5;28;01mwith\u001b[39;00m request_context(request\u001b[38;5;241m=\u001b[39m\u001b[38;5;28mself\u001b[39m\u001b[38;5;241m.\u001b[39m_request):\n\u001b[0;32m--> 885\u001b[0m \u001b[43m    \u001b[49m\u001b[38;5;28;43;01mfor\u001b[39;49;00m\u001b[43m \u001b[49m\u001b[43mraw_stream_bytes\u001b[49m\u001b[43m \u001b[49m\u001b[38;5;129;43;01min\u001b[39;49;00m\u001b[43m \u001b[49m\u001b[38;5;28;43mself\u001b[39;49m\u001b[38;5;241;43m.\u001b[39;49m\u001b[43mstream\u001b[49m\u001b[43m:\u001b[49m\n\u001b[1;32m    886\u001b[0m \u001b[43m        \u001b[49m\u001b[38;5;28;43mself\u001b[39;49m\u001b[38;5;241;43m.\u001b[39;49m\u001b[43m_num_bytes_downloaded\u001b[49m\u001b[43m \u001b[49m\u001b[38;5;241;43m+\u001b[39;49m\u001b[38;5;241;43m=\u001b[39;49m\u001b[43m \u001b[49m\u001b[38;5;28;43mlen\u001b[39;49m\u001b[43m(\u001b[49m\u001b[43mraw_stream_bytes\u001b[49m\u001b[43m)\u001b[49m\n\u001b[1;32m    887\u001b[0m \u001b[43m        \u001b[49m\u001b[38;5;28;43;01mfor\u001b[39;49;00m\u001b[43m \u001b[49m\u001b[43mchunk\u001b[49m\u001b[43m \u001b[49m\u001b[38;5;129;43;01min\u001b[39;49;00m\u001b[43m \u001b[49m\u001b[43mchunker\u001b[49m\u001b[38;5;241;43m.\u001b[39;49m\u001b[43mdecode\u001b[49m\u001b[43m(\u001b[49m\u001b[43mraw_stream_bytes\u001b[49m\u001b[43m)\u001b[49m\u001b[43m:\u001b[49m\n",
      "File \u001b[0;32m~/LIODS/repos/simplificacao/.venv/lib/python3.12/site-packages/httpx/_client.py:127\u001b[0m, in \u001b[0;36mBoundSyncStream.__iter__\u001b[0;34m(self)\u001b[0m\n\u001b[1;32m    126\u001b[0m \u001b[38;5;28;01mdef\u001b[39;00m \u001b[38;5;21m__iter__\u001b[39m(\u001b[38;5;28mself\u001b[39m) \u001b[38;5;241m-\u001b[39m\u001b[38;5;241m>\u001b[39m typing\u001b[38;5;241m.\u001b[39mIterator[\u001b[38;5;28mbytes\u001b[39m]:\n\u001b[0;32m--> 127\u001b[0m \u001b[43m    \u001b[49m\u001b[38;5;28;43;01mfor\u001b[39;49;00m\u001b[43m \u001b[49m\u001b[43mchunk\u001b[49m\u001b[43m \u001b[49m\u001b[38;5;129;43;01min\u001b[39;49;00m\u001b[43m \u001b[49m\u001b[38;5;28;43mself\u001b[39;49m\u001b[38;5;241;43m.\u001b[39;49m\u001b[43m_stream\u001b[49m\u001b[43m:\u001b[49m\n\u001b[1;32m    128\u001b[0m \u001b[43m        \u001b[49m\u001b[38;5;28;43;01myield\u001b[39;49;00m\u001b[43m \u001b[49m\u001b[43mchunk\u001b[49m\n",
      "File \u001b[0;32m~/LIODS/repos/simplificacao/.venv/lib/python3.12/site-packages/httpx/_transports/default.py:116\u001b[0m, in \u001b[0;36mResponseStream.__iter__\u001b[0;34m(self)\u001b[0m\n\u001b[1;32m    114\u001b[0m \u001b[38;5;28;01mdef\u001b[39;00m \u001b[38;5;21m__iter__\u001b[39m(\u001b[38;5;28mself\u001b[39m) \u001b[38;5;241m-\u001b[39m\u001b[38;5;241m>\u001b[39m typing\u001b[38;5;241m.\u001b[39mIterator[\u001b[38;5;28mbytes\u001b[39m]:\n\u001b[1;32m    115\u001b[0m     \u001b[38;5;28;01mwith\u001b[39;00m map_httpcore_exceptions():\n\u001b[0;32m--> 116\u001b[0m \u001b[43m        \u001b[49m\u001b[38;5;28;43;01mfor\u001b[39;49;00m\u001b[43m \u001b[49m\u001b[43mpart\u001b[49m\u001b[43m \u001b[49m\u001b[38;5;129;43;01min\u001b[39;49;00m\u001b[43m \u001b[49m\u001b[38;5;28;43mself\u001b[39;49m\u001b[38;5;241;43m.\u001b[39;49m\u001b[43m_httpcore_stream\u001b[49m\u001b[43m:\u001b[49m\n\u001b[1;32m    117\u001b[0m \u001b[43m            \u001b[49m\u001b[38;5;28;43;01myield\u001b[39;49;00m\u001b[43m \u001b[49m\u001b[43mpart\u001b[49m\n",
      "File \u001b[0;32m~/LIODS/repos/simplificacao/.venv/lib/python3.12/site-packages/httpcore/_sync/connection_pool.py:367\u001b[0m, in \u001b[0;36mPoolByteStream.__iter__\u001b[0;34m(self)\u001b[0m\n\u001b[1;32m    365\u001b[0m \u001b[38;5;28;01mexcept\u001b[39;00m \u001b[38;5;167;01mBaseException\u001b[39;00m \u001b[38;5;28;01mas\u001b[39;00m exc:\n\u001b[1;32m    366\u001b[0m     \u001b[38;5;28mself\u001b[39m\u001b[38;5;241m.\u001b[39mclose()\n\u001b[0;32m--> 367\u001b[0m     \u001b[38;5;28;01mraise\u001b[39;00m exc \u001b[38;5;28;01mfrom\u001b[39;00m \u001b[38;5;28;01mNone\u001b[39;00m\n",
      "File \u001b[0;32m~/LIODS/repos/simplificacao/.venv/lib/python3.12/site-packages/httpcore/_sync/connection_pool.py:363\u001b[0m, in \u001b[0;36mPoolByteStream.__iter__\u001b[0;34m(self)\u001b[0m\n\u001b[1;32m    361\u001b[0m \u001b[38;5;28;01mdef\u001b[39;00m \u001b[38;5;21m__iter__\u001b[39m(\u001b[38;5;28mself\u001b[39m) \u001b[38;5;241m-\u001b[39m\u001b[38;5;241m>\u001b[39m Iterator[\u001b[38;5;28mbytes\u001b[39m]:\n\u001b[1;32m    362\u001b[0m     \u001b[38;5;28;01mtry\u001b[39;00m:\n\u001b[0;32m--> 363\u001b[0m \u001b[43m        \u001b[49m\u001b[38;5;28;43;01mfor\u001b[39;49;00m\u001b[43m \u001b[49m\u001b[43mpart\u001b[49m\u001b[43m \u001b[49m\u001b[38;5;129;43;01min\u001b[39;49;00m\u001b[43m \u001b[49m\u001b[38;5;28;43mself\u001b[39;49m\u001b[38;5;241;43m.\u001b[39;49m\u001b[43m_stream\u001b[49m\u001b[43m:\u001b[49m\n\u001b[1;32m    364\u001b[0m \u001b[43m            \u001b[49m\u001b[38;5;28;43;01myield\u001b[39;49;00m\u001b[43m \u001b[49m\u001b[43mpart\u001b[49m\n\u001b[1;32m    365\u001b[0m     \u001b[38;5;28;01mexcept\u001b[39;00m \u001b[38;5;167;01mBaseException\u001b[39;00m \u001b[38;5;28;01mas\u001b[39;00m exc:\n",
      "File \u001b[0;32m~/LIODS/repos/simplificacao/.venv/lib/python3.12/site-packages/httpcore/_sync/http11.py:349\u001b[0m, in \u001b[0;36mHTTP11ConnectionByteStream.__iter__\u001b[0;34m(self)\u001b[0m\n\u001b[1;32m    347\u001b[0m \u001b[38;5;28;01mwith\u001b[39;00m ShieldCancellation():\n\u001b[1;32m    348\u001b[0m     \u001b[38;5;28mself\u001b[39m\u001b[38;5;241m.\u001b[39mclose()\n\u001b[0;32m--> 349\u001b[0m \u001b[38;5;28;01mraise\u001b[39;00m exc\n",
      "File \u001b[0;32m~/LIODS/repos/simplificacao/.venv/lib/python3.12/site-packages/httpcore/_sync/http11.py:341\u001b[0m, in \u001b[0;36mHTTP11ConnectionByteStream.__iter__\u001b[0;34m(self)\u001b[0m\n\u001b[1;32m    339\u001b[0m \u001b[38;5;28;01mtry\u001b[39;00m:\n\u001b[1;32m    340\u001b[0m     \u001b[38;5;28;01mwith\u001b[39;00m Trace(\u001b[38;5;124m\"\u001b[39m\u001b[38;5;124mreceive_response_body\u001b[39m\u001b[38;5;124m\"\u001b[39m, logger, \u001b[38;5;28mself\u001b[39m\u001b[38;5;241m.\u001b[39m_request, kwargs):\n\u001b[0;32m--> 341\u001b[0m \u001b[43m        \u001b[49m\u001b[38;5;28;43;01mfor\u001b[39;49;00m\u001b[43m \u001b[49m\u001b[43mchunk\u001b[49m\u001b[43m \u001b[49m\u001b[38;5;129;43;01min\u001b[39;49;00m\u001b[43m \u001b[49m\u001b[38;5;28;43mself\u001b[39;49m\u001b[38;5;241;43m.\u001b[39;49m\u001b[43m_connection\u001b[49m\u001b[38;5;241;43m.\u001b[39;49m\u001b[43m_receive_response_body\u001b[49m\u001b[43m(\u001b[49m\u001b[38;5;241;43m*\u001b[39;49m\u001b[38;5;241;43m*\u001b[39;49m\u001b[43mkwargs\u001b[49m\u001b[43m)\u001b[49m\u001b[43m:\u001b[49m\n\u001b[1;32m    342\u001b[0m \u001b[43m            \u001b[49m\u001b[38;5;28;43;01myield\u001b[39;49;00m\u001b[43m \u001b[49m\u001b[43mchunk\u001b[49m\n\u001b[1;32m    343\u001b[0m \u001b[38;5;28;01mexcept\u001b[39;00m \u001b[38;5;167;01mBaseException\u001b[39;00m \u001b[38;5;28;01mas\u001b[39;00m exc:\n\u001b[1;32m    344\u001b[0m     \u001b[38;5;66;03m# If we get an exception while streaming the response,\u001b[39;00m\n\u001b[1;32m    345\u001b[0m     \u001b[38;5;66;03m# we want to close the response (and possibly the connection)\u001b[39;00m\n\u001b[1;32m    346\u001b[0m     \u001b[38;5;66;03m# before raising that exception.\u001b[39;00m\n",
      "File \u001b[0;32m~/LIODS/repos/simplificacao/.venv/lib/python3.12/site-packages/httpcore/_sync/http11.py:210\u001b[0m, in \u001b[0;36mHTTP11Connection._receive_response_body\u001b[0;34m(self, request)\u001b[0m\n\u001b[1;32m    207\u001b[0m timeout \u001b[38;5;241m=\u001b[39m timeouts\u001b[38;5;241m.\u001b[39mget(\u001b[38;5;124m\"\u001b[39m\u001b[38;5;124mread\u001b[39m\u001b[38;5;124m\"\u001b[39m, \u001b[38;5;28;01mNone\u001b[39;00m)\n\u001b[1;32m    209\u001b[0m \u001b[38;5;28;01mwhile\u001b[39;00m \u001b[38;5;28;01mTrue\u001b[39;00m:\n\u001b[0;32m--> 210\u001b[0m     event \u001b[38;5;241m=\u001b[39m \u001b[38;5;28;43mself\u001b[39;49m\u001b[38;5;241;43m.\u001b[39;49m\u001b[43m_receive_event\u001b[49m\u001b[43m(\u001b[49m\u001b[43mtimeout\u001b[49m\u001b[38;5;241;43m=\u001b[39;49m\u001b[43mtimeout\u001b[49m\u001b[43m)\u001b[49m\n\u001b[1;32m    211\u001b[0m     \u001b[38;5;28;01mif\u001b[39;00m \u001b[38;5;28misinstance\u001b[39m(event, h11\u001b[38;5;241m.\u001b[39mData):\n\u001b[1;32m    212\u001b[0m         \u001b[38;5;28;01myield\u001b[39;00m \u001b[38;5;28mbytes\u001b[39m(event\u001b[38;5;241m.\u001b[39mdata)\n",
      "File \u001b[0;32m~/LIODS/repos/simplificacao/.venv/lib/python3.12/site-packages/httpcore/_sync/http11.py:224\u001b[0m, in \u001b[0;36mHTTP11Connection._receive_event\u001b[0;34m(self, timeout)\u001b[0m\n\u001b[1;32m    221\u001b[0m     event \u001b[38;5;241m=\u001b[39m \u001b[38;5;28mself\u001b[39m\u001b[38;5;241m.\u001b[39m_h11_state\u001b[38;5;241m.\u001b[39mnext_event()\n\u001b[1;32m    223\u001b[0m \u001b[38;5;28;01mif\u001b[39;00m event \u001b[38;5;129;01mis\u001b[39;00m h11\u001b[38;5;241m.\u001b[39mNEED_DATA:\n\u001b[0;32m--> 224\u001b[0m     data \u001b[38;5;241m=\u001b[39m \u001b[38;5;28;43mself\u001b[39;49m\u001b[38;5;241;43m.\u001b[39;49m\u001b[43m_network_stream\u001b[49m\u001b[38;5;241;43m.\u001b[39;49m\u001b[43mread\u001b[49m\u001b[43m(\u001b[49m\n\u001b[1;32m    225\u001b[0m \u001b[43m        \u001b[49m\u001b[38;5;28;43mself\u001b[39;49m\u001b[38;5;241;43m.\u001b[39;49m\u001b[43mREAD_NUM_BYTES\u001b[49m\u001b[43m,\u001b[49m\u001b[43m \u001b[49m\u001b[43mtimeout\u001b[49m\u001b[38;5;241;43m=\u001b[39;49m\u001b[43mtimeout\u001b[49m\n\u001b[1;32m    226\u001b[0m \u001b[43m    \u001b[49m\u001b[43m)\u001b[49m\n\u001b[1;32m    228\u001b[0m     \u001b[38;5;66;03m# If we feed this case through h11 we'll raise an exception like:\u001b[39;00m\n\u001b[1;32m    229\u001b[0m     \u001b[38;5;66;03m#\u001b[39;00m\n\u001b[1;32m    230\u001b[0m     \u001b[38;5;66;03m#     httpcore.RemoteProtocolError: can't handle event type\u001b[39;00m\n\u001b[0;32m   (...)\u001b[0m\n\u001b[1;32m    234\u001b[0m     \u001b[38;5;66;03m# perspective. Instead we handle this case distinctly and treat\u001b[39;00m\n\u001b[1;32m    235\u001b[0m     \u001b[38;5;66;03m# it as a ConnectError.\u001b[39;00m\n\u001b[1;32m    236\u001b[0m     \u001b[38;5;28;01mif\u001b[39;00m data \u001b[38;5;241m==\u001b[39m \u001b[38;5;124mb\u001b[39m\u001b[38;5;124m\"\u001b[39m\u001b[38;5;124m\"\u001b[39m \u001b[38;5;129;01mand\u001b[39;00m \u001b[38;5;28mself\u001b[39m\u001b[38;5;241m.\u001b[39m_h11_state\u001b[38;5;241m.\u001b[39mtheir_state \u001b[38;5;241m==\u001b[39m h11\u001b[38;5;241m.\u001b[39mSEND_RESPONSE:\n",
      "File \u001b[0;32m~/LIODS/repos/simplificacao/.venv/lib/python3.12/site-packages/httpcore/_backends/sync.py:126\u001b[0m, in \u001b[0;36mSyncStream.read\u001b[0;34m(self, max_bytes, timeout)\u001b[0m\n\u001b[1;32m    124\u001b[0m \u001b[38;5;28;01mwith\u001b[39;00m map_exceptions(exc_map):\n\u001b[1;32m    125\u001b[0m     \u001b[38;5;28mself\u001b[39m\u001b[38;5;241m.\u001b[39m_sock\u001b[38;5;241m.\u001b[39msettimeout(timeout)\n\u001b[0;32m--> 126\u001b[0m     \u001b[38;5;28;01mreturn\u001b[39;00m \u001b[38;5;28;43mself\u001b[39;49m\u001b[38;5;241;43m.\u001b[39;49m\u001b[43m_sock\u001b[49m\u001b[38;5;241;43m.\u001b[39;49m\u001b[43mrecv\u001b[49m\u001b[43m(\u001b[49m\u001b[43mmax_bytes\u001b[49m\u001b[43m)\u001b[49m\n",
      "\u001b[0;31mKeyboardInterrupt\u001b[0m: "
     ]
    }
   ],
   "source": [
    "simplificar_chain = simplificar_relatorio_prompt | get_llama(0)\n",
    "result = simplificar_chain.invoke({'context': results['relatorio']['response']})"
   ]
  },
  {
   "cell_type": "code",
   "execution_count": 16,
   "id": "f9b4b6d7",
   "metadata": {},
   "outputs": [
    {
     "name": "stdout",
     "output_type": "stream",
     "text": [
      "**Relatório (O Caso)**: Um pré-candidato a prefeito em Canindé realizou uma pré-campanha com estrutura robusta, incluindo palco, iluminação e telão em LED. O evento foi divulgado nas redes sociais e teve pedido explícito de votos.\n",
      "\n",
      "**Informações iniciais do processo**: O Ministério Público Eleitoral alegou que essas condutas constituem propaganda eleitoral antecipada, proibida pela lei eleitoral. O juiz da 33ª Zona - Canindé/CE concordou e condenou o pré-candidato ao pagamento de multa no valor de R$ 15.000.\n",
      "\n",
      "**Decisão do juiz**: O juiz julgou parcialmente procedente a representação eleitoral por propaganda antecipada e condenou o pré-candidato ao pagamento de multa, com fulcro no art.36, § 3º, da Lei 9.504/97.\n",
      "\n",
      "**Artigos de lei relevantes**: O juiz aplicou o art. 36, § 3º, da Lei 9.504/97, que proíbe a propaganda eleitoral antecipada.\n",
      "\n",
      "**Recorrido e fundamentos jurídicos**: O pré-candidato recorreu à decisão do juiz e alegou que as condutas realizadas durante a pré-campanha estavam dentro dos limites previstos no art. 36-A da Lei 9.504/97.\n",
      "\n",
      "**Caixa de texto explicativa**: Propaganda eleitoral antecipada é a prática de realizar campanha eleitoral antes do período oficial permitido pela lei. O art. 36-A da Lei 9.504/97 estabelece os limites para a realização de atos de pré-campanha, incluindo a publicização da preferência e a divulgação da pré-candidatura.\n",
      "\n",
      "**Resumo simplificado:**\n",
      "\n",
      "Um pré-candidato a prefeito em Canindé foi condenado ao pagamento de multa no valor de R$ 15.000 por realizar propaganda eleitoral antecipada durante uma pré-campanha robusta, que incluiu palco, iluminação e telão em LED. O Ministério Público Eleitoral alegou que essas condutas constituem propaganda eleitoral antecipada, proibida pela lei eleitoral.\n",
      "\n",
      "**Conclusão:**\n",
      "\n",
      "A decisão do juiz é um exemplo de como a lei eleitoral pode ser aplicada para evitar a propaganda eleitoral antecipada. No entanto, é importante lembrar que os limites para a realização de atos de pré-campanha são estabelecidos pela lei e devem ser respeitados. A prática de realizar campanha eleitoral antes do período oficial permitido pode resultar em multa e afetar negativamente a imagem do candidato.\n",
      "\n",
      "**Observações:**\n",
      "\n",
      "*   O caso é um exemplo de como a lei eleitoral pode ser aplicada para evitar a propaganda eleitoral antecipada.\n",
      "*   É importante lembrar que os limites para a realização de atos de pré-campanha são estabelecidos pela lei e devem ser respeitados.\n",
      "*   A prática de realizar campanha eleitoral antes do período oficial permitido pode resultar em multa e afetar negativamente a imagem do candidato.\n"
     ]
    }
   ],
   "source": [
    "simplificados['relatorio'] = result.content\n",
    "print(simplificados['relatorio'])"
   ]
  },
  {
   "cell_type": "code",
   "execution_count": null,
   "id": "6489ab3c-709f-4ca6-935c-76c2fe9e3676",
   "metadata": {},
   "outputs": [],
   "source": [
    "simplificar_prompt = PromptTemplate.from_template(\"\"\"\n",
    "    Simplifique o texto, mantendo sua estrutura original e seguindo as seguintes diretivas:\n",
    "\n",
    "    1. Utilize sempre uma linguagem simples e direta, evitando termos técnicos desnecessários. Caso seja imprescindível usar um termo jurídico específico, certifique-se de explicá-lo claramente.\n",
    "    2. Mantenha o número de parágrafos e linhas conforme indicado para cada seção.\n",
    "    3. Assegure-se de que as informações jurídicas sejam precisas e que a fundamentação legal esteja diretamente relacionada ao caso em discussão.\n",
    "    4. Siga as regras de linguagem simples: seja empático e cordial, use frases curtas, escreva na ordem direta e em voz ativa, coloque as informações mais importantes no início e utilize verbos de ação.\n",
    "    5. Revise o texto para garantir que seja claro e acessível, evitando siglas, jargões e termos técnicos. Confirme se todas as diretrizes e restrições foram cumpridas.\n",
    "    6. Adote uma escrita humanizada, procurando aproximar o texto da forma como um ser humano se expressaria, para tornar a comunicação mais próxima e compreensível.\n",
    "\n",
    "    ### CONTEXTO\n",
    "\n",
    "    ```\n",
    "    {context}\n",
    "    ```\n",
    "\n",
    "    ### RESPOSTA\n",
    "\"\"\")"
   ]
  },
  {
   "cell_type": "code",
   "execution_count": null,
   "id": "8ec2065d-2b5f-41eb-b7a9-93848529ea77",
   "metadata": {
    "jupyter": {
     "source_hidden": true
    }
   },
   "outputs": [],
   "source": [
    "simplificar_chain = simplificar_prompt | get_llama(0)"
   ]
  },
  {
   "cell_type": "code",
   "execution_count": null,
   "id": "17661367-9861-4049-a84e-018e7305c85c",
   "metadata": {
    "jupyter": {
     "source_hidden": true
    }
   },
   "outputs": [],
   "source": [
    "result = simplificar_chain.invoke({'context': acordao})"
   ]
  },
  {
   "cell_type": "code",
   "execution_count": null,
   "id": "2e3851ae-581d-4015-b889-adceb75903b9",
   "metadata": {
    "jupyter": {
     "source_hidden": true
    }
   },
   "outputs": [],
   "source": [
    "pprint(result.content)"
   ]
  }
 ],
 "metadata": {
  "kernelspec": {
   "display_name": ".venv",
   "language": "python",
   "name": "python3"
  },
  "language_info": {
   "codemirror_mode": {
    "name": "ipython",
    "version": 3
   },
   "file_extension": ".py",
   "mimetype": "text/x-python",
   "name": "python",
   "nbconvert_exporter": "python",
   "pygments_lexer": "ipython3",
   "version": "3.12.3"
  }
 },
 "nbformat": 4,
 "nbformat_minor": 5
}
